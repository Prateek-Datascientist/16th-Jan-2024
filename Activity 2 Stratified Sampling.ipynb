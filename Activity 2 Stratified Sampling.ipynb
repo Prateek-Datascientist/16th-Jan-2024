{
 "cells": [
  {
   "cell_type": "markdown",
   "id": "f56592f9",
   "metadata": {},
   "source": [
    "Problem Statement :\n",
    "\n",
    "We want to find out the maximum amount of funding given to any startup in the\n",
    "following regions -\n",
    "Bangalore\n",
    "NCR (which includes New Delhi, Gurgaon and Noida)\n",
    "Mumbai\n",
    "Pune\n",
    "Hyderabad\n",
    "\n",
    "So create your population data first by extracting those startups which are in given\n",
    "cities.\n",
    "\n",
    "Then rather than using SRS for extracting the sample, create 5 different strata based on\n",
    "5 regions and then apply stratified sampling on these 5 strata to extract a sample of size\n",
    "100 startups (taking 20 values from each stratum)\n",
    "\n",
    "Find and print Sampling errors.\n",
    "\n",
    "Note:\n",
    "Take the city name \"Delhi\" as \"New Delhi\".\n",
    "Check the case-sensitiveness of cities also. That means - at someplace, instead of\n",
    "\"Bangalore\", \"bangalore\" is given. Take city name as \"Bangalore\""
   ]
  },
  {
   "cell_type": "code",
   "execution_count": 3,
   "id": "b6d2a790",
   "metadata": {},
   "outputs": [],
   "source": [
    "import pandas as pd\n",
    "import numpy as np"
   ]
  },
  {
   "cell_type": "code",
   "execution_count": null,
   "id": "5b1b0f45",
   "metadata": {},
   "outputs": [],
   "source": []
  },
  {
   "cell_type": "code",
   "execution_count": 72,
   "id": "7b0daf54",
   "metadata": {},
   "outputs": [
    {
     "name": "stdout",
     "output_type": "stream",
     "text": [
      "Max average amount from population is 3900000000.0\n",
      "Max avg amount from sample is 300000000.0\n",
      "Hence, sampling error is  3600000000.0\n"
     ]
    }
   ],
   "source": [
    "data  = pd.read_csv( \"C:/Users/Lenovo/Desktop/startup_funding.csv \" )\n",
    "\n",
    "data[\"City  Location\"].replace(\"Delhi\" , \"New Delhi\" , inplace = True)\n",
    "\n",
    "data[\"City  Location\"].replace('bengaluru' , 'Bengaluru', inplace= True)\n",
    "data[\"City  Location\"].replace({'Gurgaon' : 'NCR' , 'New Delhi' : 'NCR' , 'Noida':'NCR'} , inplace = True)\n",
    "\n",
    "data = data[data[\"City  Location\"].isin([ \"NCR\" , \"Mumbai\" , \"Pune\" ,'Hydrabad' , 'Bengaluru' ]) ]\n",
    "\n",
    "\n",
    "#Converting amount of 'AMount in USD' to integer and adding that new column \"AMount int\" to dataframe\n",
    "a2 = data[\"Amount in USD\"].str.replace(',' , '' )\n",
    "a2  = pd.to_numeric(a2 , errors= 'coerce')\n",
    "data[\"Amount int\" ] = a2\n",
    "\n",
    "\n",
    "sample1 = data.groupby(\"City  Location\").apply(\n",
    "    lambda x: x.sample( round(len(x)*100/len(data))))\n",
    "\n",
    "population_max = data[\"Amount int\"].max()\n",
    "sample_max = sample1[\"Amount int\"].max()\n",
    "\n",
    "print(\"Max average amount from population is\" , population_max)\n",
    "print(\"Max avg amount from sample is\" , sample_max)\n",
    "print(\"Hence, sampling error is \", population_max- sample_max)"
   ]
  }
 ],
 "metadata": {
  "kernelspec": {
   "display_name": "Python 3 (ipykernel)",
   "language": "python",
   "name": "python3"
  },
  "language_info": {
   "codemirror_mode": {
    "name": "ipython",
    "version": 3
   },
   "file_extension": ".py",
   "mimetype": "text/x-python",
   "name": "python",
   "nbconvert_exporter": "python",
   "pygments_lexer": "ipython3",
   "version": "3.11.3"
  },
  "varInspector": {
   "cols": {
    "lenName": 16,
    "lenType": 16,
    "lenVar": 40
   },
   "kernels_config": {
    "python": {
     "delete_cmd_postfix": "",
     "delete_cmd_prefix": "del ",
     "library": "var_list.py",
     "varRefreshCmd": "print(var_dic_list())"
    },
    "r": {
     "delete_cmd_postfix": ") ",
     "delete_cmd_prefix": "rm(",
     "library": "var_list.r",
     "varRefreshCmd": "cat(var_dic_list()) "
    }
   },
   "types_to_exclude": [
    "module",
    "function",
    "builtin_function_or_method",
    "instance",
    "_Feature"
   ],
   "window_display": false
  }
 },
 "nbformat": 4,
 "nbformat_minor": 5
}
