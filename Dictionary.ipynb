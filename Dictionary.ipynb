{
 "cells": [
  {
   "cell_type": "code",
   "execution_count": 3,
   "id": "3cce7f03",
   "metadata": {},
   "outputs": [
    {
     "name": "stdout",
     "output_type": "stream",
     "text": [
      "{1: 1, 2: 4, 3: 9, 4: 16, 5: 25}\n"
     ]
    },
    {
     "data": {
      "text/plain": [
       "{1: 0, 2: 0, 3: 0, 4: 0, 'new_key': 'new_value'}"
      ]
     },
     "execution_count": 3,
     "metadata": {},
     "output_type": "execute_result"
    }
   ],
   "source": [
    "n = 5\n",
    "l1 = [(i, i**2) for i in range(1, n+1)]\n",
    "dict2 = dict(l1)\n",
    "print(dict2)\n",
    "\n",
    "a = dict.fromkeys([1,2,3,4] , 0)\n",
    "a\n",
    "\n",
    "a[\"new_key\"] = 'new_value'\n",
    "a"
   ]
  },
  {
   "cell_type": "code",
   "execution_count": 19,
   "id": "be2d56d1",
   "metadata": {},
   "outputs": [
    {
     "name": "stdout",
     "output_type": "stream",
     "text": [
      "(1, 2, 3, 1, 2, 2, 1, 2, 1, 2, 3, 34, 4, 3, 'a', 'v', 'a', 'v')\n",
      "(1, 2, 3, 1, 2, 2, 1, 2, 1, 2, 3, 34, 4, 3, 'a', 'v')\n"
     ]
    }
   ],
   "source": [
    "# Creating new dictionary from a given list\n",
    "\n",
    "l1 = (1,2,3,1,2,2,1,2,1,2,3,34,4,3)\n",
    "\n",
    "l2 = ('a' , 'v')\n",
    "\n",
    "l1 = l1+l2\n",
    "print(l1+l2)\n",
    "print(l1)\n",
    "\n",
    "#d1 = dict(l1)\n",
    "\n",
    "\n"
   ]
  },
  {
   "cell_type": "code",
   "execution_count": 21,
   "id": "47575469",
   "metadata": {},
   "outputs": [
    {
     "name": "stdout",
     "output_type": "stream",
     "text": [
      "{1: 'Frequency of 1 is 4', 2: 'Frequency of 2 is 5', 3: 'Frequency of 3 is 3', 34: 'Frequency of 34 is 1', 4: 'Frequency of 4 is 1'}\n",
      "{1: 'Frequency of 1 is 4', 2: 'Frequency of 2 is 5', 3: 'Frequency of 3 is 3', 34: 'Frequency of 34 is 1', 4: 'Frequency of 4 is 1', 'asca': 12312}\n"
     ]
    }
   ],
   "source": [
    "l1 = (1,2,3,1,2,2,1,2,1,2,3,34,4,3)\n",
    "d = {}\n",
    "for i in l1:\n",
    "    d[i] = d.get(i , 0) + 1\n",
    "\n",
    "for i in d:\n",
    "    d[i] = \"Frequency of \" + str(i) + ' is ' + str(d.get(i))\n",
    "\n",
    "print(d)\n",
    "\n",
    "d2 = {'asca': 12312}\n",
    "\n",
    "d.update(d2)\n",
    "print(d)\n",
    "\n",
    "# Two dictioanries are not added by d1 + d2 , but by updating : d1.update(d2)"
   ]
  },
  {
   "cell_type": "code",
   "execution_count": 23,
   "id": "41b12279",
   "metadata": {},
   "outputs": [
    {
     "name": "stdout",
     "output_type": "stream",
     "text": [
      "{1: 'Frequency of 1 is 4', 2: 'Frequency of 2 is 5', 3: 'Frequency of 3 is 3', 34: 'Frequency of 34 is 1', 4: 'Frequency of 4 is 1'}\n"
     ]
    },
    {
     "data": {
      "text/plain": [
       "'Frequency of 1 is 4'"
      ]
     },
     "execution_count": 23,
     "metadata": {},
     "output_type": "execute_result"
    }
   ],
   "source": [
    "l1 = (1,2,3,1,2,2,1,2,1,2,3,34,4,3)\n",
    "d = {}\n",
    "for i in l1:\n",
    "    d[i] = d.get(i , 0) + 1\n",
    "\n",
    "for i in d:\n",
    "    d[i] = \"Frequency of \" + str(i) + ' is ' + str(d.get(i))\n",
    "\n",
    "print(d)\n",
    "\n",
    "d2 = {'asca': 12312}\n",
    "\n",
    "del d[2]\n",
    "\n",
    "d.pop(1)"
   ]
  },
  {
   "cell_type": "code",
   "execution_count": 27,
   "id": "7fac4b19",
   "metadata": {},
   "outputs": [
    {
     "name": "stdout",
     "output_type": "stream",
     "text": [
      "5\n",
      "{1: 1, 2: 8, 3: 27, 4: 64, 5: 125}\n",
      "dict_keys([1, 2, 3, 4, 5])\n",
      "dict_values([1, 8, 27, 64, 125])\n"
     ]
    }
   ],
   "source": [
    "# Creating a dictionary with i keys and i^3 as values\n",
    "\n",
    "d = { i:i**3 for i in range(1,int(input())+1) }\n",
    "print(d)\n",
    "print(d.keys())\n",
    "print(d.values())"
   ]
  },
  {
   "cell_type": "code",
   "execution_count": 30,
   "id": "78dee9cb",
   "metadata": {},
   "outputs": [
    {
     "name": "stdout",
     "output_type": "stream",
     "text": [
      "Today is a day that is superb and that is to be remembered\n",
      "{'Today': 1, 'is': 3, 'a': 1, 'day': 1, 'that': 2, 'superb': 1, 'and': 1, 'to': 1, 'be': 1, 'remembered': 1}\n"
     ]
    }
   ],
   "source": [
    "# Taking string as input and counting frequency of each input\n",
    "\n",
    "a = input().split()\n",
    "\n",
    "d = {}\n",
    "\n",
    "for i in a:\n",
    "    d[i] = d.get(i, 0) + 1\n",
    "\n",
    "print(d)\n",
    "    "
   ]
  },
  {
   "cell_type": "code",
   "execution_count": 32,
   "id": "78a68dc7",
   "metadata": {},
   "outputs": [
    {
     "name": "stdout",
     "output_type": "stream",
     "text": [
      "sdk23 23 k23\n",
      "{'sdk23': 1, '23': 1, 'k23': 1}\n"
     ]
    }
   ],
   "source": [
    "a = input().lower().split()\n",
    "\n",
    "d = {}\n",
    "\n",
    "for i in a:\n",
    "    d[i] = d.get(i, 0) + 1\n",
    "\n",
    "print(d)"
   ]
  },
  {
   "cell_type": "code",
   "execution_count": null,
   "id": "818a489e",
   "metadata": {},
   "outputs": [],
   "source": []
  }
 ],
 "metadata": {
  "kernelspec": {
   "display_name": "Python 3 (ipykernel)",
   "language": "python",
   "name": "python3"
  },
  "language_info": {
   "codemirror_mode": {
    "name": "ipython",
    "version": 3
   },
   "file_extension": ".py",
   "mimetype": "text/x-python",
   "name": "python",
   "nbconvert_exporter": "python",
   "pygments_lexer": "ipython3",
   "version": "3.11.3"
  }
 },
 "nbformat": 4,
 "nbformat_minor": 5
}
