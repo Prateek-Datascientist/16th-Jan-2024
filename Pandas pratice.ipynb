{
 "cells": [
  {
   "cell_type": "code",
   "execution_count": 7,
   "id": "9f15cc8f",
   "metadata": {},
   "outputs": [
    {
     "name": "stdout",
     "output_type": "stream",
     "text": [
      "      Name  Age           City\n",
      "0    Alice   25       New York\n",
      "1      Bob   30  San Francisco\n",
      "2  Charlie   35    Los Angeles\n"
     ]
    },
    {
     "data": {
      "text/plain": [
       "<Axes: >"
      ]
     },
     "execution_count": 7,
     "metadata": {},
     "output_type": "execute_result"
    },
    {
     "data": {
      "image/png": "[encoded data removed]",
      "text/plain": [
       "<Figure size 640x480 with 1 Axes>"
      ]
     },
     "metadata": {},
     "output_type": "display_data"
    }
   ],
   "source": [
    "import pandas as pd\n",
    "\n",
    "# Creating a DataFrame from a dictionary\n",
    "\n",
    "data = {'Name': ['Alice', 'Bob', 'Charlie'],\n",
    "        'Age': [25, 30, 35],\n",
    "        'City': ['New York', 'San Francisco', 'Los Angeles']}\n",
    "\n",
    "df = pd.DataFrame(data , index = (i for i in range(len(data))))\n",
    "\n",
    "# Display the DataFrame\n",
    "print(df)\n",
    "\n",
    "df.plot.area()\n"
   ]
  },
  {
   "cell_type": "code",
   "execution_count": 26,
   "id": "e4274c57",
   "metadata": {},
   "outputs": [
    {
     "name": "stdout",
     "output_type": "stream",
     "text": [
      "18429897.27\n",
      "38057737864.22\n",
      "0    200000000.0\n",
      "1      8048394.0\n",
      "2     18358860.0\n",
      "3      3000000.0\n",
      "4      1800000.0\n",
      "Name: Amount in USD, dtype: float64\n",
      "18429897.27080872\n"
     ]
    }
   ],
   "source": [
    "import pandas as pd\n",
    "\n",
    "data = pd.read_csv(\"C:/Users/Lenovo/Desktop/startup_funding.csv\")\n",
    "sample_size = 70\n",
    "\n",
    "\n",
    "a1 = data[\"Amount in USD\"]\n",
    "a1.head\n",
    "a2 = a1.str.replace(',' ,'')\n",
    "a2\n",
    "a3 = pd.to_numeric(a2 , errors= \"coerce\")\n",
    "a3\n",
    "print(round(a3.mean() , 2))\n",
    "print(a3.sum()) \n",
    "print(a3.head())\n",
    "a3.fillna(a3.mean())\n",
    "print(a3.mean())   # Mean did not chnage by replacing na with Meannnnbnb  bn"
   ]
  },
  {
   "cell_type": "code",
   "execution_count": 38,
   "id": "21ffb484",
   "metadata": {},
   "outputs": [
    {
     "name": "stdout",
     "output_type": "stream",
     "text": [
      "Index(['Sr No', 'Date dd/mm/yyyy', 'Startup Name', 'Industry Vertical',\n",
      "       'SubVertical', 'City  Location', 'Investors Name', 'InvestmentnType',\n",
      "       'Amount in USD', 'Remarks'],\n",
      "      dtype='object')\n"
     ]
    },
    {
     "data": {
      "text/html": [
       "<div>\n",
       "<style scoped>\n",
       "    .dataframe tbody tr th:only-of-type {\n",
       "        vertical-align: middle;\n",
       "    }\n",
       "\n",
       "    .dataframe tbody tr th {\n",
       "        vertical-align: top;\n",
       "    }\n",
       "\n",
       "    .dataframe thead th {\n",
       "        text-align: right;\n",
       "    }\n",
       "</style>\n",
       "<table border=\"1\" class=\"dataframe\">\n",
       "  <thead>\n",
       "    <tr style=\"text-align: right;\">\n",
       "      <th></th>\n",
       "      <th>Sr No</th>\n",
       "      <th>Date dd/mm/yyyy</th>\n",
       "      <th>Startup Name</th>\n",
       "      <th>Industry Vertical</th>\n",
       "      <th>SubVertical</th>\n",
       "      <th>City  Location</th>\n",
       "      <th>Investors Name</th>\n",
       "      <th>InvestmentnType</th>\n",
       "      <th>Amount in USD</th>\n",
       "      <th>Remarks</th>\n",
       "    </tr>\n",
       "  </thead>\n",
       "  <tbody>\n",
       "    <tr>\n",
       "      <th>3</th>\n",
       "      <td>4</td>\n",
       "      <td>02/01/2020</td>\n",
       "      <td>https://www.wealthbucket.in/</td>\n",
       "      <td>FinTech</td>\n",
       "      <td>Online Investment</td>\n",
       "      <td>New Delhi</td>\n",
       "      <td>Vinod Khatumal</td>\n",
       "      <td>Pre-series A</td>\n",
       "      <td>30,00,000</td>\n",
       "      <td>NaN</td>\n",
       "    </tr>\n",
       "    <tr>\n",
       "      <th>27</th>\n",
       "      <td>28</td>\n",
       "      <td>19/11/2019</td>\n",
       "      <td>Digital Mall Asia</td>\n",
       "      <td>E-Commerce</td>\n",
       "      <td>Virtual e-commerce platform</td>\n",
       "      <td>Delhi</td>\n",
       "      <td>Amour Infrastructure</td>\n",
       "      <td>Seed Funding</td>\n",
       "      <td>22,00,00,000</td>\n",
       "      <td>NaN</td>\n",
       "    </tr>\n",
       "    <tr>\n",
       "      <th>45</th>\n",
       "      <td>46</td>\n",
       "      <td>01/08/2019</td>\n",
       "      <td>Progcap</td>\n",
       "      <td>Finance</td>\n",
       "      <td>Supply Chain Management</td>\n",
       "      <td>New Delhi</td>\n",
       "      <td>Sequoia India</td>\n",
       "      <td>Series A</td>\n",
       "      <td>50,00,000</td>\n",
       "      <td>NaN</td>\n",
       "    </tr>\n",
       "    <tr>\n",
       "      <th>63</th>\n",
       "      <td>64</td>\n",
       "      <td>01/07/2019</td>\n",
       "      <td>WizCounsel</td>\n",
       "      <td>Compliance</td>\n",
       "      <td>Consulting</td>\n",
       "      <td>New Delhi</td>\n",
       "      <td>Kapil Dev</td>\n",
       "      <td>Angel</td>\n",
       "      <td>1,45,000</td>\n",
       "      <td>NaN</td>\n",
       "    </tr>\n",
       "    <tr>\n",
       "      <th>66</th>\n",
       "      <td>67</td>\n",
       "      <td>04/07/2019</td>\n",
       "      <td>Daalchini Technologies</td>\n",
       "      <td>Food and Beverage</td>\n",
       "      <td>Digital Vending Machine</td>\n",
       "      <td>New Delhi</td>\n",
       "      <td>Artha Venture</td>\n",
       "      <td>Seed Round</td>\n",
       "      <td>5,00,000</td>\n",
       "      <td>NaN</td>\n",
       "    </tr>\n",
       "    <tr>\n",
       "      <th>...</th>\n",
       "      <td>...</td>\n",
       "      <td>...</td>\n",
       "      <td>...</td>\n",
       "      <td>...</td>\n",
       "      <td>...</td>\n",
       "      <td>...</td>\n",
       "      <td>...</td>\n",
       "      <td>...</td>\n",
       "      <td>...</td>\n",
       "      <td>...</td>\n",
       "    </tr>\n",
       "    <tr>\n",
       "      <th>2862</th>\n",
       "      <td>2863</td>\n",
       "      <td>28/04/2015</td>\n",
       "      <td>Babajobs</td>\n",
       "      <td>Grey collar Job Board</td>\n",
       "      <td>NaN</td>\n",
       "      <td>Bangalore</td>\n",
       "      <td>SEEK Ltd &amp; affiliates</td>\n",
       "      <td>Private Equity</td>\n",
       "      <td>1,00,00,000</td>\n",
       "      <td>Series B</td>\n",
       "    </tr>\n",
       "    <tr>\n",
       "      <th>2863</th>\n",
       "      <td>2864</td>\n",
       "      <td>28/04/2015</td>\n",
       "      <td>Urban Ladder</td>\n",
       "      <td>Online Furniture ecommerce</td>\n",
       "      <td>NaN</td>\n",
       "      <td>Bangalore</td>\n",
       "      <td>Anand Rajaraman, Venky Harinarayan</td>\n",
       "      <td>Private Equity</td>\n",
       "      <td>NaN</td>\n",
       "      <td>Series D</td>\n",
       "    </tr>\n",
       "    <tr>\n",
       "      <th>2868</th>\n",
       "      <td>2869</td>\n",
       "      <td>29/04/2015</td>\n",
       "      <td>Tracxn</td>\n",
       "      <td>Startup Analytics platform</td>\n",
       "      <td>NaN</td>\n",
       "      <td>Bangalore</td>\n",
       "      <td>SAIF Partners</td>\n",
       "      <td>Private Equity</td>\n",
       "      <td>35,00,000</td>\n",
       "      <td>Series A</td>\n",
       "    </tr>\n",
       "    <tr>\n",
       "      <th>2869</th>\n",
       "      <td>2870</td>\n",
       "      <td>29/04/2015</td>\n",
       "      <td>Dazo</td>\n",
       "      <td>Mobile Food Ordering app</td>\n",
       "      <td>NaN</td>\n",
       "      <td>Bangalore</td>\n",
       "      <td>Sumit Jain, Aprameya Radhakrishna, Alok Goel, ...</td>\n",
       "      <td>Seed Funding</td>\n",
       "      <td>NaN</td>\n",
       "      <td>NaN</td>\n",
       "    </tr>\n",
       "    <tr>\n",
       "      <th>2870</th>\n",
       "      <td>2871</td>\n",
       "      <td>29/04/2015</td>\n",
       "      <td>Tradelab</td>\n",
       "      <td>Financial Markets Software</td>\n",
       "      <td>NaN</td>\n",
       "      <td>Bangalore</td>\n",
       "      <td>Rainmatter</td>\n",
       "      <td>Seed Funding</td>\n",
       "      <td>4,00,000</td>\n",
       "      <td>NaN</td>\n",
       "    </tr>\n",
       "  </tbody>\n",
       "</table>\n",
       "<p>1155 rows × 10 columns</p>\n",
       "</div>"
      ],
      "text/plain": [
       "      Sr No Date dd/mm/yyyy                  Startup Name  \\\n",
       "3         4      02/01/2020  https://www.wealthbucket.in/   \n",
       "27       28      19/11/2019             Digital Mall Asia   \n",
       "45       46      01/08/2019                       Progcap   \n",
       "63       64      01/07/2019                    WizCounsel   \n",
       "66       67      04/07/2019        Daalchini Technologies   \n",
       "...     ...             ...                           ...   \n",
       "2862   2863      28/04/2015                      Babajobs   \n",
       "2863   2864      28/04/2015                  Urban Ladder   \n",
       "2868   2869      29/04/2015                        Tracxn   \n",
       "2869   2870      29/04/2015                          Dazo   \n",
       "2870   2871      29/04/2015                      Tradelab   \n",
       "\n",
       "               Industry Vertical                  SubVertical City  Location  \\\n",
       "3                        FinTech            Online Investment      New Delhi   \n",
       "27                    E-Commerce  Virtual e-commerce platform          Delhi   \n",
       "45                       Finance      Supply Chain Management      New Delhi   \n",
       "63                    Compliance                   Consulting      New Delhi   \n",
       "66             Food and Beverage      Digital Vending Machine      New Delhi   \n",
       "...                          ...                          ...            ...   \n",
       "2862       Grey collar Job Board                          NaN      Bangalore   \n",
       "2863  Online Furniture ecommerce                          NaN      Bangalore   \n",
       "2868  Startup Analytics platform                          NaN      Bangalore   \n",
       "2869    Mobile Food Ordering app                          NaN      Bangalore   \n",
       "2870  Financial Markets Software                          NaN      Bangalore   \n",
       "\n",
       "                                         Investors Name InvestmentnType  \\\n",
       "3                                        Vinod Khatumal    Pre-series A   \n",
       "27                                 Amour Infrastructure    Seed Funding   \n",
       "45                                        Sequoia India        Series A   \n",
       "63                                            Kapil Dev           Angel   \n",
       "66                                        Artha Venture      Seed Round   \n",
       "...                                                 ...             ...   \n",
       "2862                              SEEK Ltd & affiliates  Private Equity   \n",
       "2863                 Anand Rajaraman, Venky Harinarayan  Private Equity   \n",
       "2868                                      SAIF Partners  Private Equity   \n",
       "2869  Sumit Jain, Aprameya Radhakrishna, Alok Goel, ...    Seed Funding   \n",
       "2870                                         Rainmatter    Seed Funding   \n",
       "\n",
       "     Amount in USD   Remarks  \n",
       "3        30,00,000       NaN  \n",
       "27    22,00,00,000       NaN  \n",
       "45       50,00,000       NaN  \n",
       "63        1,45,000       NaN  \n",
       "66        5,00,000       NaN  \n",
       "...            ...       ...  \n",
       "2862   1,00,00,000  Series B  \n",
       "2863           NaN  Series D  \n",
       "2868     35,00,000  Series A  \n",
       "2869           NaN       NaN  \n",
       "2870      4,00,000       NaN  \n",
       "\n",
       "[1155 rows x 10 columns]"
      ]
     },
     "execution_count": 38,
     "metadata": {},
     "output_type": "execute_result"
    }
   ],
   "source": [
    "# Activity 1: Finding the average amount of funding given to startups which are in either Bangalore or in New Delhi.\n",
    "\n",
    "import pandas as pd\n",
    "\n",
    "data = pd.read_csv(\"C:/Users/Lenovo/Desktop/startup_funding.csv\")\n",
    "\n",
    "print(data.columns)\n",
    "\n",
    "data1 = data[data['City  Location'].isin([\"Bangalore\" , \"Delhi\" , \"New Delhi\"] )]\n",
    "data1\n",
    "\n",
    "\n"
   ]
  },
  {
   "cell_type": "code",
   "execution_count": 51,
   "id": "05cc314c",
   "metadata": {},
   "outputs": [
    {
     "name": "stdout",
     "output_type": "stream",
     "text": [
      "     0    1    2    3            4\n",
      "0  5.1  3.5  1.4  0.2  Iris-setosa\n",
      "1  4.9  3.0  1.4  0.2  Iris-setosa\n",
      "2  4.7  3.2  1.3  0.2  Iris-setosa\n",
      "3  4.6  3.1  1.5  0.2  Iris-setosa\n",
      "4  5.0  3.6  1.4  0.2  Iris-setosa\n",
      "\n",
      "                0           1           2           3\n",
      "count  150.000000  150.000000  150.000000  150.000000\n",
      "mean     5.843333    3.054000    3.758667    1.198667\n",
      "std      0.828066    0.433594    1.764420    0.763161\n",
      "min      4.300000    2.000000    1.000000    0.100000\n",
      "25%      5.100000    2.800000    1.600000    0.300000\n",
      "50%      5.800000    3.000000    4.350000    1.300000\n",
      "75%      6.400000    3.300000    5.100000    1.800000\n",
      "max      7.900000    4.400000    6.900000    2.500000\n",
      "Int64Index([0, 1, 2, 3, 4], dtype='int64')\n"
     ]
    },
    {
     "data": {
      "text/plain": [
       "0    0\n",
       "1    0\n",
       "2    0\n",
       "3    0\n",
       "4    0\n",
       "dtype: int64"
      ]
     },
     "execution_count": 51,
     "metadata": {},
     "output_type": "execute_result"
    }
   ],
   "source": [
    "    import pandas as pd     \n",
    "    iris=pd.read_csv('https://archive.ics.uci.edu/ml/machine-learning-databases/iris/iris.data' ,  header = None)\n",
    "    df = iris.copy()\n",
    "    print(df.head())\n",
    "    print()\n",
    "    print(df.describe())\n",
    "    print(df.columns)\n",
    "    df.isnull().sum()"
   ]
  },
  {
   "cell_type": "code",
   "execution_count": 62,
   "id": "d23cf57a",
   "metadata": {},
   "outputs": [
    {
     "data": {
      "text/html": [
       "<div>\n",
       "<style scoped>\n",
       "    .dataframe tbody tr th:only-of-type {\n",
       "        vertical-align: middle;\n",
       "    }\n",
       "\n",
       "    .dataframe tbody tr th {\n",
       "        vertical-align: top;\n",
       "    }\n",
       "\n",
       "    .dataframe thead th {\n",
       "        text-align: right;\n",
       "    }\n",
       "</style>\n",
       "<table border=\"1\" class=\"dataframe\">\n",
       "  <thead>\n",
       "    <tr style=\"text-align: right;\">\n",
       "      <th></th>\n",
       "      <th>a</th>\n",
       "      <th>b</th>\n",
       "      <th>c</th>\n",
       "    </tr>\n",
       "  </thead>\n",
       "  <tbody>\n",
       "    <tr>\n",
       "      <th>1</th>\n",
       "      <td>4</td>\n",
       "      <td>7</td>\n",
       "      <td>10</td>\n",
       "    </tr>\n",
       "    <tr>\n",
       "      <th>2</th>\n",
       "      <td>5</td>\n",
       "      <td>8</td>\n",
       "      <td>11</td>\n",
       "    </tr>\n",
       "    <tr>\n",
       "      <th>3</th>\n",
       "      <td>6</td>\n",
       "      <td>9</td>\n",
       "      <td>12</td>\n",
       "    </tr>\n",
       "  </tbody>\n",
       "</table>\n",
       "</div>"
      ],
      "text/plain": [
       "   a  b   c\n",
       "1  4  7  10\n",
       "2  5  8  11\n",
       "3  6  9  12"
      ]
     },
     "execution_count": 62,
     "metadata": {},
     "output_type": "execute_result"
    }
   ],
   "source": [
    "df = pd.DataFrame(\n",
    "[[4, 7, 10],\n",
    "[5, 8, 11],\n",
    "[6, 9, 12]],\n",
    "\n",
    "columns=['a', 'b', 'c'],\n",
    "index=[1, 2, 3])\n",
    "df"
   ]
  },
  {
   "cell_type": "code",
   "execution_count": 68,
   "id": "09816983",
   "metadata": {},
   "outputs": [
    {
     "name": "stdout",
     "output_type": "stream",
     "text": [
      "        Height  weight  Age\n",
      "Alpha        1      22   34\n",
      "Beta         2      22   35\n",
      "Gamma        3      11   36\n",
      "Hacker       4      33   37\n",
      "4            5      44   38\n",
      "7            6      55   38\n"
     ]
    },
    {
     "data": {
      "text/plain": [
       "35"
      ]
     },
     "execution_count": 68,
     "metadata": {},
     "output_type": "execute_result"
    }
   ],
   "source": [
    "data3 = {\"Height\" : [1,2,3,4,5,6] , \"weight\": [22,22,11,33,44,55] , \"Age\" : [34,35,36,37,38,38]}\n",
    "d1 = pd.DataFrame(data3 , index= ['Alpha' ,\"Beta\" ,\"Gamma\" , \"Hacker\" , 4,7] )\n",
    "print(d1)\n",
    "d1.iloc[1 , 2]"
   ]
  },
  {
   "cell_type": "code",
   "execution_count": 72,
   "id": "5ed5f4ba",
   "metadata": {},
   "outputs": [
    {
     "name": "stdout",
     "output_type": "stream",
     "text": [
      "        Height  weight  Age\n",
      "Alpha        1      22   34\n",
      "Beta         2      22   35\n",
      "Gamma        3      11   36\n",
      "Hacker       4      33   37\n",
      "4            5      44   38\n",
      "7            6      55   38\n",
      "Height    int64\n",
      "weight    int64\n",
      "Age       int64\n",
      "dtype: object\n"
     ]
    }
   ],
   "source": [
    "data3 = {\"Height\" : [1,2,3,4,5,6] , \"weight\": [22,22,11,33,44,55] , \"Age\" : [34,35,36,37,38,38]}\n",
    "d1 = pd.DataFrame(data3 , index= ['Alpha' ,\"Beta\" ,\"Gamma\" , \"Hacker\" , 4,7] )\n",
    "print(d1)\n",
    "d1.loc[\"Beta\":7 , \"weight\":\"Age\"]\n",
    "print(d1.dtypes)"
   ]
  },
  {
   "cell_type": "code",
   "execution_count": 94,
   "id": "2e8b4577",
   "metadata": {},
   "outputs": [
    {
     "name": "stdout",
     "output_type": "stream",
     "text": [
      "        Height  weight  Age\n",
      "Alpha        1      22   34\n",
      "Beta         2      22   35\n",
      "Gamma        3      11   36\n",
      "Hacker       4      33   37\n",
      "4            5      44   38\n",
      "7            6      55   38\n",
      "Height    int64\n",
      "weight    int64\n",
      "Age       int64\n",
      "dtype: object\n"
     ]
    },
    {
     "data": {
      "text/html": [
       "<div>\n",
       "<style scoped>\n",
       "    .dataframe tbody tr th:only-of-type {\n",
       "        vertical-align: middle;\n",
       "    }\n",
       "\n",
       "    .dataframe tbody tr th {\n",
       "        vertical-align: top;\n",
       "    }\n",
       "\n",
       "    .dataframe thead th {\n",
       "        text-align: right;\n",
       "    }\n",
       "</style>\n",
       "<table border=\"1\" class=\"dataframe\">\n",
       "  <thead>\n",
       "    <tr style=\"text-align: right;\">\n",
       "      <th></th>\n",
       "      <th>Height</th>\n",
       "      <th>weight</th>\n",
       "      <th>Age</th>\n",
       "    </tr>\n",
       "  </thead>\n",
       "  <tbody>\n",
       "    <tr>\n",
       "      <th>Gamma</th>\n",
       "      <td>3</td>\n",
       "      <td>11</td>\n",
       "      <td>36</td>\n",
       "    </tr>\n",
       "    <tr>\n",
       "      <th>Hacker</th>\n",
       "      <td>4</td>\n",
       "      <td>33</td>\n",
       "      <td>37</td>\n",
       "    </tr>\n",
       "    <tr>\n",
       "      <th>4</th>\n",
       "      <td>5</td>\n",
       "      <td>44</td>\n",
       "      <td>38</td>\n",
       "    </tr>\n",
       "    <tr>\n",
       "      <th>7</th>\n",
       "      <td>6</td>\n",
       "      <td>55</td>\n",
       "      <td>38</td>\n",
       "    </tr>\n",
       "  </tbody>\n",
       "</table>\n",
       "</div>"
      ],
      "text/plain": [
       "        Height  weight  Age\n",
       "Gamma        3      11   36\n",
       "Hacker       4      33   37\n",
       "4            5      44   38\n",
       "7            6      55   38"
      ]
     },
     "execution_count": 94,
     "metadata": {},
     "output_type": "execute_result"
    }
   ],
   "source": [
    "data3 = {\"Height\" : [1,2,3,4,5,6] , \"weight\": [22,22,11,33,44,55] , \"Age\" : [34,35,36,37,38,38]}\n",
    "d1 = pd.DataFrame(data3 , index= ['Alpha' ,\"Beta\" ,\"Gamma\" , \"Hacker\" , 4,7] )\n",
    "print(d1)\n",
    "d1.loc[\"Beta\":7 , \"weight\":\"Age\"]\n",
    "print(d1.dtypes)\n",
    "\n",
    "a = d1.drop(\"Age\" , axis = 1)\n",
    "\n",
    "a2 = d1.drop(d1.index[[0, 1]])\n",
    "a2"
   ]
  }
 ],
 "metadata": {
  "kernelspec": {
   "display_name": "Python 3 (ipykernel)",
   "language": "python",
   "name": "python3"
  },
  "language_info": {
   "codemirror_mode": {
    "name": "ipython",
    "version": 3
   },
   "file_extension": ".py",
   "mimetype": "text/x-python",
   "name": "python",
   "nbconvert_exporter": "python",
   "pygments_lexer": "ipython3",
   "version": "3.11.3"
  },
  "varInspector": {
   "cols": {
    "lenName": 16,
    "lenType": 16,
    "lenVar": 40
   },
   "kernels_config": {
    "python": {
     "delete_cmd_postfix": "",
     "delete_cmd_prefix": "del ",
     "library": "var_list.py",
     "varRefreshCmd": "print(var_dic_list())"
    },
    "r": {
     "delete_cmd_postfix": ") ",
     "delete_cmd_prefix": "rm(",
     "library": "var_list.r",
     "varRefreshCmd": "cat(var_dic_list()) "
    }
   },
   "types_to_exclude": [
    "module",
    "function",
    "builtin_function_or_method",
    "instance",
    "_Feature"
   ],
   "window_display": false
  }
 },
 "nbformat": 4,
 "nbformat_minor": 5
}
