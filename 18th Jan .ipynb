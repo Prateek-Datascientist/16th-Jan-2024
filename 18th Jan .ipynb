{
 "cells": [
  {
   "cell_type": "code",
   "execution_count": 45,
   "id": "86f92c46",
   "metadata": {},
   "outputs": [
    {
     "name": "stdout",
     "output_type": "stream",
     "text": [
      "   Sr No Date dd/mm/yyyy Startup Name Industry Vertical SubVertical  \\\n",
      "0      1      09/01/2020       BYJU’S            E-Tech  E-learning   \n",
      "\n",
      "  City  Location           Investors Name       InvestmentnType Amount in USD  \\\n",
      "0      Bengaluru  Tiger Global Management  Private Equity Round  20,00,00,000   \n",
      "\n",
      "  Remarks  \n",
      "0     NaN  \n",
      "0    20,00,00,000\n",
      "1       80,48,394\n",
      "2     1,83,58,860\n",
      "3       30,00,000\n",
      "Name: Amount in USD, dtype: object\n",
      "0    20,00,00,000\n",
      "1       80,48,394\n",
      "2     1,83,58,860\n",
      "Name: Amount in USD, dtype: object\n",
      "0    200000000\n",
      "1      8048394\n",
      "2     18358860\n",
      "Name: Amount in USD, dtype: object\n",
      "0    200000000.0\n",
      "1      8048394.0\n",
      "2     18358860.0\n",
      "Name: Amount in USD, dtype: float64\n",
      "3900000000.0 300000000.0\n",
      "16000.0 30000.0\n",
      "18429897.27080872 13154759.301470589\n",
      "2065 136\n"
     ]
    }
   ],
   "source": [
    "# Doing statistical stuff with Pandas\n",
    "\n",
    "import pandas as pd\n",
    "\n",
    "data = pd.read_csv(\"C:/Users/Lenovo/Desktop/Startup_funding.csv\" , header = 0)\n",
    "print(data.head(1))\n",
    "\n",
    "amount = data[\"Amount in USD\"]\n",
    "print(amount.head(4))\n",
    "\n",
    "#amount.dropna(inplace = True)\n",
    "print(amount.head(3))\n",
    "\n",
    "\n",
    "\n",
    "a1 = amount.str.replace(',' ,'')\n",
    "print(a1.head(3))\n",
    "\n",
    "a1.replace('undisclosed', pd.NA, inplace=True)\n",
    "\n",
    "\n",
    "a2 = pd.to_numeric(a1, errors='coerce')\n",
    "print(a2.head(3))\n",
    "\n",
    "sample_size = 200\n",
    "\n",
    "sample = a2.sample(sample_size)\n",
    "sample.head(10)\n",
    "\n",
    "print( a2.max() , sample.max())\n",
    "print( a2.min() ,sample.min())\n",
    "print(a2.mean() , sample.mean())\n",
    "print( a2.count(), sample.count())"
   ]
  },
  {
   "cell_type": "code",
   "execution_count": 70,
   "id": "0f8e8648",
   "metadata": {},
   "outputs": [
    {
     "name": "stdout",
     "output_type": "stream",
     "text": [
      "18429897.27080872 3900000000.0 16000.0\n",
      "22560047.26752381 3900000000.0 16000.0\n"
     ]
    }
   ],
   "source": [
    "data = pd.read_csv(\"C:/Users/Lenovo/Desktop/Startup_funding.csv\" , header = 0)\n",
    "data.head(5)\n",
    "\n",
    "amount = data[\"Amount in USD\"]\n",
    "amount.head(3)\n",
    "a1 = amount.str.replace(',' ,'')\n",
    "a2 = pd.to_numeric(a1, errors = 'coerce')\n",
    "a2\n",
    "print(a2.mean() , a2.max() , a2.min())\n",
    "s1 = a2.sample(900, random_state = 4)\n",
    "print(s1.mean() , s1.max(), s1.min())\n",
    "\n",
    "\n",
    "\n"
   ]
  },
  {
   "cell_type": "code",
   "execution_count": 19,
   "id": "777350ac",
   "metadata": {},
   "outputs": [
    {
     "name": "stdout",
     "output_type": "stream",
     "text": [
      "dict_items([('Alpha', 1000), ('beta', 500), ('gamma', 100), (23, 100), ('dict1', {1: 2, 'dict': 'dict'})])\n",
      "<class 'dict'>\n",
      "100\n",
      "1000\n",
      "1000\n",
      "{1: 2, 'dict': 'dict'}\n"
     ]
    },
    {
     "data": {
      "text/plain": [
       "'none_is_there'"
      ]
     },
     "execution_count": 19,
     "metadata": {},
     "output_type": "execute_result"
    }
   ],
   "source": [
    "# Dictionaries\n",
    "\n",
    "a = { 'Alpha':1000 , 'beta' : 500 , 'gamma': 100 , 23:100 , 'dict1' : {1:2 , 'dict': 'dict'}}\n",
    "print(a.items())\n",
    "print(type(a))\n",
    "print(a.get('alpha' ,100))\n",
    "print(a.get('Alpha'))\n",
    "print(a['Alpha'])\n",
    "print(a.get('dict1'))\n",
    "#a['aa']\n",
    "a.get('aa', 'none_is_there')"
   ]
  },
  {
   "cell_type": "code",
   "execution_count": 27,
   "id": "040ee513",
   "metadata": {},
   "outputs": [
    {
     "name": "stdout",
     "output_type": "stream",
     "text": [
      "dict_items([('Alpha', 1000), ('beta', 500), ('gamma', 100), (23, 100), ('dict1', {1: 2, 'dict': 'dict'})])\n",
      "dict_keys(['Alpha', 'beta', 'gamma', 23, 'dict1'])\n",
      "dict_values([1000, 500, 100, 100, {1: 2, 'dict': 'dict'}])\n",
      "Alpha\n",
      "beta\n",
      "gamma\n",
      "23\n",
      "dict1\n",
      "now printing values\n",
      "1000\n",
      "500\n",
      "100\n",
      "100\n",
      "{1: 2, 'dict': 'dict'}\n",
      "No_key\n",
      "False\n",
      "False\n"
     ]
    },
    {
     "data": {
      "text/plain": [
       "dict_keys(['Alpha', 'beta', 'gamma', 23, 'dict1'])"
      ]
     },
     "execution_count": 27,
     "metadata": {},
     "output_type": "execute_result"
    }
   ],
   "source": [
    "\n",
    "a = { 'Alpha':1000 , 'beta' : 500 , 'gamma': 100 , 23:100 , 'dict1' : {1:2 , 'dict': 'dict'}}\n",
    "print(a.items())\n",
    "print(a.keys())\n",
    "print(a.values())\n",
    "\n",
    "for i in a:\n",
    "    print(i)\n",
    "    \n",
    "print(\"now printing values\")\n",
    "\n",
    "for i in a:\n",
    "    print(a[i])\n",
    "    \n",
    "print(a.get(\"Key1\" , 'No_key'))\n",
    "\n",
    "bool = 'key' in a\n",
    "print(bool)\n",
    "\n",
    "arr = [1,2,3,3,4,4,5,5,4,3,222]\n",
    "\n",
    "bool1 = 'apple' in arr\n",
    "print(bool1)\n",
    "\n",
    "a.keys()"
   ]
  },
  {
   "cell_type": "code",
   "execution_count": 36,
   "id": "33d1138e",
   "metadata": {},
   "outputs": [
    {
     "name": "stdout",
     "output_type": "stream",
     "text": [
      "3\n",
      "{1: 1, 2: 4, 3: 9}\n"
     ]
    },
    {
     "ename": "TypeError",
     "evalue": "'dict' object is not callable",
     "output_type": "error",
     "traceback": [
      "\u001b[1;31m---------------------------------------------------------------------------\u001b[0m",
      "\u001b[1;31mTypeError\u001b[0m                                 Traceback (most recent call last)",
      "Cell \u001b[1;32mIn[36], line 6\u001b[0m\n\u001b[0;32m      3\u001b[0m \u001b[38;5;28mprint\u001b[39m(dict1)\n\u001b[0;32m      5\u001b[0m l1 \u001b[38;5;241m=\u001b[39m [(i, i\u001b[38;5;241m*\u001b[39m\u001b[38;5;241m*\u001b[39m\u001b[38;5;241m2\u001b[39m) \u001b[38;5;28;01mfor\u001b[39;00m i \u001b[38;5;129;01min\u001b[39;00m \u001b[38;5;28mrange\u001b[39m(\u001b[38;5;241m1\u001b[39m, n\u001b[38;5;241m+\u001b[39m\u001b[38;5;241m1\u001b[39m)]\n\u001b[1;32m----> 6\u001b[0m my_dict \u001b[38;5;241m=\u001b[39m \u001b[38;5;28mdict\u001b[39m(l1)\n\u001b[0;32m      7\u001b[0m \u001b[38;5;28mprint\u001b[39m(my_dict)\n",
      "\u001b[1;31mTypeError\u001b[0m: 'dict' object is not callable"
     ]
    }
   ],
   "source": [
    "n = int(input())\n",
    "dict1 = { i:i**2 for i in range(1, n+1) }\n",
    "print(dict1)\n",
    "\n",
    "l1 = [(i, i**2) for i in range(1, n+1)]\n",
    "my_dict = dict(l1)\n",
    "print(my_dict)\n",
    "\n"
   ]
  },
  {
   "cell_type": "code",
   "execution_count": 40,
   "id": "667f51ef",
   "metadata": {},
   "outputs": [
    {
     "data": {
      "text/plain": [
       "(1, 2, 3, 34, 44, 2, 1, 1)"
      ]
     },
     "execution_count": 40,
     "metadata": {},
     "output_type": "execute_result"
    }
   ],
   "source": [
    "l1 = [1,2,3,34,44,2,1,1]\n",
    "d1 = tuple(l1)\n",
    "d1"
   ]
  },
  {
   "cell_type": "code",
   "execution_count": 44,
   "id": "5fad23d7",
   "metadata": {},
   "outputs": [
    {
     "ename": "TypeError",
     "evalue": "'dict' object is not callable",
     "output_type": "error",
     "traceback": [
      "\u001b[1;31m---------------------------------------------------------------------------\u001b[0m",
      "\u001b[1;31mTypeError\u001b[0m                                 Traceback (most recent call last)",
      "Cell \u001b[1;32mIn[44], line 3\u001b[0m\n\u001b[0;32m      1\u001b[0m n \u001b[38;5;241m=\u001b[39m \u001b[38;5;241m5\u001b[39m\n\u001b[0;32m      2\u001b[0m l1 \u001b[38;5;241m=\u001b[39m [(i, i\u001b[38;5;241m*\u001b[39m\u001b[38;5;241m*\u001b[39m\u001b[38;5;241m2\u001b[39m) \u001b[38;5;28;01mfor\u001b[39;00m i \u001b[38;5;129;01min\u001b[39;00m \u001b[38;5;28mrange\u001b[39m(\u001b[38;5;241m1\u001b[39m, n\u001b[38;5;241m+\u001b[39m\u001b[38;5;241m1\u001b[39m)]\n\u001b[1;32m----> 3\u001b[0m dict2 \u001b[38;5;241m=\u001b[39m \u001b[38;5;28mdict\u001b[39m(l1)\n\u001b[0;32m      4\u001b[0m \u001b[38;5;28mprint\u001b[39m(dict2)\n",
      "\u001b[1;31mTypeError\u001b[0m: 'dict' object is not callable"
     ]
    }
   ],
   "source": [
    "n = 5\n",
    "l1 = [(i, i**2) for i in range(1, n+1)]\n",
    "dict2 = dict(l1)\n",
    "print(dict2)\n"
   ]
  },
  {
   "cell_type": "code",
   "execution_count": 49,
   "id": "57305357",
   "metadata": {},
   "outputs": [
    {
     "data": {
      "text/plain": [
       "4"
      ]
     },
     "execution_count": 49,
     "metadata": {},
     "output_type": "execute_result"
    }
   ],
   "source": [
    "arr1 = [1,2,3,4]\n",
    "arr2 = arr1.reverse()\n",
    "arr2\n",
    "max(arr1)http://localhost:8888/notebooks/18th%20Jan%20.ipynb#"
   ]
  },
  {
   "cell_type": "code",
   "execution_count": 53,
   "id": "4a57784f",
   "metadata": {},
   "outputs": [
    {
     "name": "stdout",
     "output_type": "stream",
     "text": [
      "12:00:00\n"
     ]
    },
    {
     "ename": "NameError",
     "evalue": "name 'concat' is not defined",
     "output_type": "error",
     "traceback": [
      "\u001b[1;31m---------------------------------------------------------------------------\u001b[0m",
      "\u001b[1;31mNameError\u001b[0m                                 Traceback (most recent call last)",
      "Cell \u001b[1;32mIn[53], line 5\u001b[0m\n\u001b[0;32m      2\u001b[0m \u001b[38;5;28;01mif\u001b[39;00m s[\u001b[38;5;241m8\u001b[39m:\u001b[38;5;241m10\u001b[39m] \u001b[38;5;241m==\u001b[39m \u001b[38;5;124m'\u001b[39m\u001b[38;5;124mAM\u001b[39m\u001b[38;5;124m'\u001b[39m:\n\u001b[0;32m      3\u001b[0m          \u001b[38;5;28mprint\u001b[39m(s[: \u001b[38;5;241m8\u001b[39m])\n\u001b[1;32m----> 5\u001b[0m concat( s, \u001b[38;5;124m'\u001b[39m\u001b[38;5;124mABCD\u001b[39m\u001b[38;5;124m'\u001b[39m)\n\u001b[0;32m      6\u001b[0m concat( \u001b[38;5;124m'\u001b[39m\u001b[38;5;124ma\u001b[39m\u001b[38;5;124m'\u001b[39m, \u001b[38;5;124m'\u001b[39m\u001b[38;5;124mb\u001b[39m\u001b[38;5;124m'\u001b[39m)\n",
      "\u001b[1;31mNameError\u001b[0m: name 'concat' is not defined"
     ]
    }
   ],
   "source": [
    "s = '12:00:00AM'\n",
    "if s[8:10] == 'AM':\n",
    "         print(s[: 8])\n",
    "        \n",
    "concat( s, 'ABCD')\n",
    "concat( 'a', 'b')"
   ]
  },
  {
   "cell_type": "code",
   "execution_count": 55,
   "id": "19746773",
   "metadata": {},
   "outputs": [
    {
     "ename": "TypeError",
     "evalue": "format() argument 2 must be str, not type",
     "output_type": "error",
     "traceback": [
      "\u001b[1;31m---------------------------------------------------------------------------\u001b[0m",
      "\u001b[1;31mTypeError\u001b[0m                                 Traceback (most recent call last)",
      "Cell \u001b[1;32mIn[55], line 6\u001b[0m\n\u001b[0;32m      1\u001b[0m s \u001b[38;5;241m=\u001b[39m \u001b[38;5;124m'\u001b[39m\u001b[38;5;124m07:05:45PM\u001b[39m\u001b[38;5;124m'\u001b[39m\n\u001b[0;32m      3\u001b[0m \u001b[38;5;28;01mif\u001b[39;00m s[\u001b[38;5;241m8\u001b[39m:\u001b[38;5;241m10\u001b[39m] \u001b[38;5;241m==\u001b[39m \u001b[38;5;124m'\u001b[39m\u001b[38;5;124mPM\u001b[39m\u001b[38;5;124m'\u001b[39m:\n\u001b[1;32m----> 6\u001b[0m          hr \u001b[38;5;241m=\u001b[39m \u001b[38;5;28mformat\u001b[39m( s[ :\u001b[38;5;241m2\u001b[39m] , \u001b[38;5;28mint\u001b[39m)\n\u001b[0;32m      8\u001b[0m          \u001b[38;5;28;01mif\u001b[39;00m hr \u001b[38;5;241m!=\u001b[39m \u001b[38;5;241m12\u001b[39m:\n\u001b[0;32m      9\u001b[0m             hr \u001b[38;5;241m=\u001b[39m hr \u001b[38;5;241m+\u001b[39m \u001b[38;5;241m12\u001b[39m\n",
      "\u001b[1;31mTypeError\u001b[0m: format() argument 2 must be str, not type"
     ]
    }
   ],
   "source": [
    "s = '07:05:45PM'\n",
    "\n",
    "if s[8:10] == 'PM':\n",
    "         \n",
    "         \n",
    "         hr = format( s[ :2] , int)\n",
    "         \n",
    "         if hr != 12:\n",
    "            hr = hr + 12\n",
    "         \n",
    "         print( str(hr) + s[2: 8])\n",
    "print(s[ : 2])"
   ]
  },
  {
   "cell_type": "code",
   "execution_count": 61,
   "id": "dc40f1c0",
   "metadata": {},
   "outputs": [
    {
     "ename": "TypeError",
     "evalue": "format() argument 2 must be str, not int",
     "output_type": "error",
     "traceback": [
      "\u001b[1;31m---------------------------------------------------------------------------\u001b[0m",
      "\u001b[1;31mTypeError\u001b[0m                                 Traceback (most recent call last)",
      "Cell \u001b[1;32mIn[61], line 2\u001b[0m\n\u001b[0;32m      1\u001b[0m s \u001b[38;5;241m=\u001b[39m \u001b[38;5;124m'\u001b[39m\u001b[38;5;124m07:05:45PM\u001b[39m\u001b[38;5;124m'\u001b[39m\n\u001b[1;32m----> 2\u001b[0m \u001b[38;5;28mprint\u001b[39m(\u001b[38;5;28mformat\u001b[39m(s[ \u001b[38;5;241m1\u001b[39m:\u001b[38;5;241m2\u001b[39m] , \u001b[38;5;241m3\u001b[39m))\n",
      "\u001b[1;31mTypeError\u001b[0m: format() argument 2 must be str, not int"
     ]
    }
   ],
   "source": [
    "s = '07:05:45PM'\n",
    "print(format(s[ 1:2] , 3))"
   ]
  }
 ],
 "metadata": {
  "kernelspec": {
   "display_name": "Python 3 (ipykernel)",
   "language": "python",
   "name": "python3"
  },
  "language_info": {
   "codemirror_mode": {
    "name": "ipython",
    "version": 3
   },
   "file_extension": ".py",
   "mimetype": "text/x-python",
   "name": "python",
   "nbconvert_exporter": "python",
   "pygments_lexer": "ipython3",
   "version": "3.11.3"
  }
 },
 "nbformat": 4,
 "nbformat_minor": 5
}
