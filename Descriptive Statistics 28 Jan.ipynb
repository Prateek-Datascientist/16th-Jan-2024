{
 "cells": [
  {
   "cell_type": "code",
   "execution_count": 12,
   "id": "401fb4ed",
   "metadata": {},
   "outputs": [
    {
     "name": "stdout",
     "output_type": "stream",
     "text": [
      "[ 8.0547416   7.83825708 10.1717437  10.30880278  7.1541889   7.18963137\n",
      "  8.39476986  8.02173523  8.87167742  7.73669478]\n",
      "[7 8 2 6 9 7 9 4 2 2]\n",
      "mean of a is  8.374\n",
      "mean of b is  5.6\n"
     ]
    }
   ],
   "source": [
    "import pandas as pd\n",
    "import numpy as np\n",
    "\n",
    "a = np.random.normal(loc =8.5, scale= 1 , size = 10)\n",
    "print(a)\n",
    "b = np.random.randint(0,10, size = 10)\n",
    "print(b)\n",
    "\n",
    "print(\"mean of a is \" , format(a.mean(), \".3f\"))\n",
    "print(\"mean of b is \", b.mean())"
   ]
  },
  {
   "cell_type": "code",
   "execution_count": 17,
   "id": "b3769e92",
   "metadata": {},
   "outputs": [],
   "source": [
    "import statistics\n"
   ]
  },
  {
   "cell_type": "code",
   "execution_count": 14,
   "id": "80ff014a",
   "metadata": {},
   "outputs": [
    {
     "name": "stdout",
     "output_type": "stream",
     "text": [
      "2 3 4 "
     ]
    }
   ],
   "source": [
    "# Calculating  mode using python\n",
    "a = [1,2,3,4,5,4,3,2,1,2,3,4,5,4,3,2,1,2,3,3,4,3,2,2,3,4,4,1,2,4,5]\n",
    "\n",
    "b = {}\n",
    "for i in a:\n",
    "    b[i] = b.get(i , 0) + 1\n",
    "val = max(b.values())\n",
    "\n",
    "for i in b:\n",
    "    if b[i] == val:\n",
    "        print(i , end = ' ')"
   ]
  },
  {
   "cell_type": "code",
   "execution_count": 18,
   "id": "d42ff762",
   "metadata": {},
   "outputs": [
    {
     "name": "stdout",
     "output_type": "stream",
     "text": [
      "2\n"
     ]
    }
   ],
   "source": [
    "# Calculating mode using statistics library\n",
    "\n",
    "a = [1,2,3,4,5,4,3,2,1,2,3,4,5,4,3,2,1,2,3,3,4,3,2,2,3,4,4,1,2,4,5]\n",
    "\n",
    "print( statistics.mode(a))\n"
   ]
  }
 ],
 "metadata": {
  "kernelspec": {
   "display_name": "Python 3 (ipykernel)",
   "language": "python",
   "name": "python3"
  },
  "language_info": {
   "codemirror_mode": {
    "name": "ipython",
    "version": 3
   },
   "file_extension": ".py",
   "mimetype": "text/x-python",
   "name": "python",
   "nbconvert_exporter": "python",
   "pygments_lexer": "ipython3",
   "version": "3.11.3"
  },
  "varInspector": {
   "cols": {
    "lenName": 16,
    "lenType": 16,
    "lenVar": 40
   },
   "kernels_config": {
    "python": {
     "delete_cmd_postfix": "",
     "delete_cmd_prefix": "del ",
     "library": "var_list.py",
     "varRefreshCmd": "print(var_dic_list())"
    },
    "r": {
     "delete_cmd_postfix": ") ",
     "delete_cmd_prefix": "rm(",
     "library": "var_list.r",
     "varRefreshCmd": "cat(var_dic_list()) "
    }
   },
   "types_to_exclude": [
    "module",
    "function",
    "builtin_function_or_method",
    "instance",
    "_Feature"
   ],
   "window_display": false
  }
 },
 "nbformat": 4,
 "nbformat_minor": 5
}
