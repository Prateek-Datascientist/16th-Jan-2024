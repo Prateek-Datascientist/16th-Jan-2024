{
  "nbformat": 4,
  "nbformat_minor": 0,
  "metadata": {
    "colab": {
      "provenance": [],
      "authorship_tag": "ABX9TyOZqPhsSUqQNUcR6ui+x1Mh",
      "include_colab_link": true
    },
    "kernelspec": {
      "name": "python3",
      "display_name": "Python 3"
    },
    "language_info": {
      "name": "python"
    }
  },
  "cells": [
    {
      "cell_type": "markdown",
      "metadata": {
        "id": "view-in-github",
        "colab_type": "text"
      },
      "source": [
        "<a href=\"https://colab.research.google.com/github/Prateek-Datascientist/16th-Jan-2024/blob/main/Machine_Learning_3_(7_Feb).ipynb\" target=\"_parent\"><img src=\"https://colab.research.google.com/assets/colab-badge.svg\" alt=\"Open In Colab\"/></a>"
      ]
    },
    {
      "cell_type": "code",
      "execution_count": null,
      "metadata": {
        "id": "cxg1s9oAEGJw"
      },
      "outputs": [],
      "source": [
        "import pandas as pd\n",
        "import numpy as np\n",
        "from sklearn import datasets\n",
        "from sklearn.model_selection import train_test_split\n",
        "from sklearn.linear_model import LinearRegression"
      ]
    },
    {
      "cell_type": "markdown",
      "source": [],
      "metadata": {
        "id": "3gsBFkeXXw0H"
      }
    },
    {
      "cell_type": "markdown",
      "source": [
        "Creating new features / creating degree2 polynomial equation for prediction"
      ],
      "metadata": {
        "id": "A5PMNpRpQIk-"
      }
    },
    {
      "cell_type": "code",
      "source": [
        "iris = datasets.load_iris()\n",
        "data = iris.data\n",
        "target = iris.target\n",
        "df = pd.DataFrame(data)\n",
        "df1 = df.copy()\n",
        "a = len(df.columns)\n",
        "for i in range(a):\n",
        "  for j in range(i, a):\n",
        "    df[f'{i}{j}'] = df[i]*df[j]\n",
        "\n",
        "alg1 = LinearRegression()\n",
        "x1train, x1test, y1train, y1test = train_test_split(df1.values , target, random_state = 10)\n",
        "alg1.fit(x1train, y1train )\n",
        "score1 = alg1.score(x1test , y1test)\n",
        "print(\"Score of original data is \" , round((score1)*100 , 3) ,end ='%')\n",
        "print()\n",
        "\n",
        "\n",
        "alg2 = LinearRegression()\n",
        "x2train, x2test, y2train, y2test = train_test_split(df.values , target, random_state = 10)\n",
        "alg2.fit(x2train, y2train )\n",
        "score2 = alg2.score(x2test , y2test)\n",
        "print(\"Score of new columns test is \" , round(score2*100, 3) , end ='%')\n",
        "print()\n",
        "\n",
        "if score1 > score2:\n",
        "  print(\"Our algorithm overfitted\")\n",
        "else: print(\"Creation of new features lead to improvement\")\n"
      ],
      "metadata": {
        "colab": {
          "base_uri": "https://localhost:8080/"
        },
        "id": "X1ztA5OnEYyI",
        "outputId": "0f340b09-124e-4554-d734-36799c4421bb"
      },
      "execution_count": null,
      "outputs": [
        {
          "output_type": "stream",
          "name": "stdout",
          "text": [
            "Score of original data is  92.155%\n",
            "Score of new columns test is  94.072%\n",
            "Creation of new features lead to improvement\n"
          ]
        }
      ]
    }
  ]
}