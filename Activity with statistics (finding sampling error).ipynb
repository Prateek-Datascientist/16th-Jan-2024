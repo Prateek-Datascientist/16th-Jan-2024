{
 "cells": [
  {
   "cell_type": "code",
   "execution_count": null,
   "id": "e2cd5559",
   "metadata": {},
   "outputs": [],
   "source": [
    "\n"
   ]
  },
  {
   "cell_type": "markdown",
   "id": "b836434e",
   "metadata": {},
   "source": [
    "## Activity 1\n",
    "\n",
    "We want to find out the average amount of funding given to startups which are in either\n",
    "Bangalore or in New Delhi.\n",
    "For this - rather than considering all the startups, take a sample of size 50 (without\n",
    "replacement). Then find the average amount of funding from this sample and calculate\n",
    "the Sampling Error.\n",
    "Sampling Error = Average(Population) - Average(Sample)\n",
    "Note:\n",
    "Take the city name \"Delhi\" as \"New Delhi\".\n",
    "Check the case-sensitiveness of cities also. That means - at someplace, instead of\n",
    "\"Bangalore\", \"bangalore\" is given. Take city name as \"Bangalore\"\n",
    "Output :\n",
    "Print Sampling Error"
   ]
  },
  {
   "cell_type": "code",
   "execution_count": 146,
   "id": "f999b484",
   "metadata": {},
   "outputs": [
    {
     "name": "stdout",
     "output_type": "stream",
     "text": [
      "Average of total is  26505485.38\n",
      "Average of sample is 21062583.19\n",
      "5442902.19\n"
     ]
    }
   ],
   "source": [
    "data  = pd.read_csv( \"C:/Users/Lenovo/Desktop/startup_funding.csv \" )\n",
    "\n",
    "data[\"City  Location\"].replace(\"Delhi\" , \"New Delhi\" , inplace = True)\n",
    "\n",
    "(data[\"City  Location\"][ data[\"City  Location\"] == 'bangalore' ]).replace('b' , 'B', inplace= True)\n",
    "\n",
    "data[\"Amount in USD\"].dropna(inplace = True)\n",
    "\n",
    "data[\"Amount in USD\"].str.replace(',' , '' )\n",
    "\n",
    "a = data[\"City  Location\"].isin([\"Bengaluru\" ,  \"New Delhi\"] )\n",
    "\n",
    "data1 = data[a]\n",
    "\n",
    "sample_data = data1.sample(50 , random_state= 1 )\n",
    "sample_amount = sample_data[\"Amount in USD\"]\n",
    "total_amount = data1[\"Amount in USD\"]\n",
    "\n",
    "#converting sample amount to int format (cleaning the \"Amount\" column) for both sample and population\n",
    "s1  =sample_amount.str.replace(',' , '')\n",
    "s2 = pd.to_numeric(s1, errors= 'coerce' )\n",
    "\n",
    "\n",
    "f1 = total_amount.str.replace(',' , '')\n",
    "f2 = pd.to_numeric(f1 , errors= 'coerce')\n",
    "\n",
    "sample_avg = s2.mean()\n",
    "total_avg = f2.mean()\n",
    "\n",
    "error = total_avg -  sample_avg\n",
    "\n",
    "print(\"Average of total is \" ,format(total_avg , \".2f\"))\n",
    "print(\"Average of sample is\" , format(sample_avg , \".2f\"))\n",
    "print(format(error , \".2f\"))\n"
   ]
  },
  {
   "cell_type": "code",
   "execution_count": null,
   "id": "4057099a",
   "metadata": {},
   "outputs": [],
   "source": []
  }
 ],
 "metadata": {
  "kernelspec": {
   "display_name": "Python 3 (ipykernel)",
   "language": "python",
   "name": "python3"
  },
  "language_info": {
   "codemirror_mode": {
    "name": "ipython",
    "version": 3
   },
   "file_extension": ".py",
   "mimetype": "text/x-python",
   "name": "python",
   "nbconvert_exporter": "python",
   "pygments_lexer": "ipython3",
   "version": "3.11.3"
  },
  "varInspector": {
   "cols": {
    "lenName": 16,
    "lenType": 16,
    "lenVar": 40
   },
   "kernels_config": {
    "python": {
     "delete_cmd_postfix": "",
     "delete_cmd_prefix": "del ",
     "library": "var_list.py",
     "varRefreshCmd": "print(var_dic_list())"
    },
    "r": {
     "delete_cmd_postfix": ") ",
     "delete_cmd_prefix": "rm(",
     "library": "var_list.r",
     "varRefreshCmd": "cat(var_dic_list()) "
    }
   },
   "types_to_exclude": [
    "module",
    "function",
    "builtin_function_or_method",
    "instance",
    "_Feature"
   ],
   "window_display": false
  }
 },
 "nbformat": 4,
 "nbformat_minor": 5
}
