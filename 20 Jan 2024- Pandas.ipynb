{
 "cells": [
  {
   "cell_type": "code",
   "execution_count": 14,
   "id": "b15d008a",
   "metadata": {},
   "outputs": [
    {
     "name": "stdout",
     "output_type": "stream",
     "text": [
      "   Sr No Date dd/mm/yyyy                  Startup Name  ...       InvestmentnType Amount in USD Remarks\n",
      "0      1      09/01/2020                        BYJU’S  ...  Private Equity Round  20,00,00,000     NaN\n",
      "1      2      13/01/2020                        Shuttl  ...              Series C     80,48,394     NaN\n",
      "2      3      09/01/2020                     Mamaearth  ...              Series B   1,83,58,860     NaN\n",
      "3      4      02/01/2020  https://www.wealthbucket.in/  ...          Pre-series A     30,00,000     NaN\n",
      "\n",
      "[4 rows x 10 columns]\n",
      "next operation\n",
      "Sr No                                                    3\n",
      "Date dd/mm/yyyy                                 09/01/2020\n",
      "Startup Name                                     Mamaearth\n",
      "Industry Vertical                               E-commerce\n",
      "SubVertical          Retailer of baby and toddler products\n",
      "City  Location                                   Bengaluru\n",
      "Investors Name                       Sequoia Capital India\n",
      "InvestmentnType                                   Series B\n",
      "Amount in USD                                  1,83,58,860\n",
      "Remarks                                                NaN\n",
      "Name: 2, dtype: object\n",
      "0          1\n",
      "1          2\n",
      "2          3\n",
      "3          4\n",
      "4          5\n",
      "        ... \n",
      "3039    3040\n",
      "3040    3041\n",
      "3041    3042\n",
      "3042    3043\n",
      "3043    3044\n",
      "Name: Sr No, Length: 3044, dtype: int64\n",
      "Sr No                 int64\n",
      "Date dd/mm/yyyy      object\n",
      "Startup Name         object\n",
      "Industry Vertical    object\n",
      "SubVertical          object\n",
      "City  Location       object\n",
      "Investors Name       object\n",
      "InvestmentnType      object\n",
      "Amount in USD        object\n",
      "Remarks              object\n",
      "dtype: object\n"
     ]
    }
   ],
   "source": [
    "# Working with Pandas\n",
    "\n",
    "import pandas as pd\n",
    "\n",
    "file = pd.read_csv(\"c:/Users/Lenovo/Desktop/startup_funding.csv\" )\n",
    "\n",
    "print(data.head(4))\n",
    "\n",
    "print(\"next operation\")\n",
    "# print(file[2])   Its an error\n",
    "\n",
    "print(file.loc[2])\n",
    "\n",
    "print(file[\"Sr No\"])\n",
    "\n",
    "print(file.dtypes)"
   ]
  },
  {
   "cell_type": "code",
   "execution_count": 22,
   "id": "ba915736",
   "metadata": {},
   "outputs": [
    {
     "name": "stdout",
     "output_type": "stream",
     "text": [
      "  Date dd/mm/yyyy                  Startup Name    Industry Vertical  ...       InvestmentnType Amount in USD Remarks\n",
      "0      09/01/2020                        BYJU’S               E-Tech  ...  Private Equity Round  20,00,00,000     NaN\n",
      "1      13/01/2020                        Shuttl       Transportation  ...              Series C     80,48,394     NaN\n",
      "2      09/01/2020                     Mamaearth           E-commerce  ...              Series B   1,83,58,860     NaN\n",
      "3      02/01/2020  https://www.wealthbucket.in/              FinTech  ...          Pre-series A     30,00,000     NaN\n",
      "4      02/01/2020                        Fashor  Fashion and Apparel  ...            Seed Round     18,00,000     NaN\n",
      "\n",
      "[5 rows x 9 columns]\n",
      "[['09/01/2020' 'BYJU’S' 'E-Tech' ... 'Private Equity Round'\n",
      "  '20,00,00,000' nan]\n",
      " ['13/01/2020' 'Shuttl' 'Transportation' ... 'Series C' '80,48,394' nan]\n",
      " ['09/01/2020' 'Mamaearth' 'E-commerce' ... 'Series B' '1,83,58,860' nan]\n",
      " ...\n",
      " ['30/01/2015' 'Mad Street Den' nan ... 'Private Equity' '15,00,000' nan]\n",
      " ['30/01/2015' 'Simplotel' nan ... 'Private Equity' nan\n",
      "  'Strategic Funding, Minority stake']\n",
      " ['31/01/2015' 'couponmachine.in' nan ... 'Seed Funding' '1,40,000' nan]]\n"
     ]
    },
    {
     "data": {
      "text/html": [
       "<div>\n",
       "<style scoped>\n",
       "    .dataframe tbody tr th:only-of-type {\n",
       "        vertical-align: middle;\n",
       "    }\n",
       "\n",
       "    .dataframe tbody tr th {\n",
       "        vertical-align: top;\n",
       "    }\n",
       "\n",
       "    .dataframe thead th {\n",
       "        text-align: right;\n",
       "    }\n",
       "</style>\n",
       "<table border=\"1\" class=\"dataframe\">\n",
       "  <thead>\n",
       "    <tr style=\"text-align: right;\">\n",
       "      <th></th>\n",
       "      <th>Date dd/mm/yyyy</th>\n",
       "      <th>Startup Name</th>\n",
       "      <th>Industry Vertical</th>\n",
       "      <th>SubVertical</th>\n",
       "      <th>City  Location</th>\n",
       "      <th>Investors Name</th>\n",
       "      <th>InvestmentnType</th>\n",
       "      <th>Amount in USD</th>\n",
       "      <th>Remarks</th>\n",
       "    </tr>\n",
       "  </thead>\n",
       "  <tbody>\n",
       "    <tr>\n",
       "      <th>count</th>\n",
       "      <td>3044</td>\n",
       "      <td>3044</td>\n",
       "      <td>2873</td>\n",
       "      <td>2108</td>\n",
       "      <td>2864</td>\n",
       "      <td>3020</td>\n",
       "      <td>3040</td>\n",
       "      <td>2084</td>\n",
       "      <td>419</td>\n",
       "    </tr>\n",
       "    <tr>\n",
       "      <th>unique</th>\n",
       "      <td>1035</td>\n",
       "      <td>2459</td>\n",
       "      <td>821</td>\n",
       "      <td>1942</td>\n",
       "      <td>112</td>\n",
       "      <td>2412</td>\n",
       "      <td>55</td>\n",
       "      <td>471</td>\n",
       "      <td>72</td>\n",
       "    </tr>\n",
       "    <tr>\n",
       "      <th>top</th>\n",
       "      <td>02/02/2015</td>\n",
       "      <td>Ola Cabs</td>\n",
       "      <td>Consumer Internet</td>\n",
       "      <td>Online Lending Platform</td>\n",
       "      <td>Bangalore</td>\n",
       "      <td>Undisclosed Investors</td>\n",
       "      <td>Private Equity</td>\n",
       "      <td>10,00,000</td>\n",
       "      <td>Series A</td>\n",
       "    </tr>\n",
       "    <tr>\n",
       "      <th>freq</th>\n",
       "      <td>11</td>\n",
       "      <td>8</td>\n",
       "      <td>941</td>\n",
       "      <td>11</td>\n",
       "      <td>700</td>\n",
       "      <td>39</td>\n",
       "      <td>1356</td>\n",
       "      <td>165</td>\n",
       "      <td>175</td>\n",
       "    </tr>\n",
       "  </tbody>\n",
       "</table>\n",
       "</div>"
      ],
      "text/plain": [
       "       Date dd/mm/yyyy Startup Name  Industry Vertical  ... InvestmentnType Amount in USD   Remarks\n",
       "count             3044         3044               2873  ...            3040          2084       419\n",
       "unique            1035         2459                821  ...              55           471        72\n",
       "top         02/02/2015     Ola Cabs  Consumer Internet  ...  Private Equity     10,00,000  Series A\n",
       "freq                11            8                941  ...            1356           165       175\n",
       "\n",
       "[4 rows x 9 columns]"
      ]
     },
     "execution_count": 22,
     "metadata": {},
     "output_type": "execute_result"
    }
   ],
   "source": [
    "import pandas as pd\n",
    "\n",
    "file = pd.read_csv(\"c:/Users/Lenovo/Desktop/startup_funding.csv\" )\n",
    "\n",
    "del file[\"Sr No\"]\n",
    "\n",
    "print(file.head(5))\n",
    "\n",
    "print(file.values)\n",
    "\n",
    "file.describe()"
   ]
  },
  {
   "cell_type": "code",
   "execution_count": 24,
   "id": "0dd8db4d",
   "metadata": {},
   "outputs": [
    {
     "name": "stdout",
     "output_type": "stream",
     "text": [
      "[['09/01/2020' 'BYJU’S' 'E-Tech' ... 'Private Equity Round'\n",
      "  '20,00,00,000' nan]\n",
      " ['13/01/2020' 'Shuttl' 'Transportation' ... 'Series C' '80,48,394' nan]\n",
      " ['09/01/2020' 'Mamaearth' 'E-commerce' ... 'Series B' '1,83,58,860' nan]\n",
      " ...\n",
      " ['30/01/2015' 'Mad Street Den' nan ... 'Private Equity' '15,00,000' nan]\n",
      " ['30/01/2015' 'Simplotel' nan ... 'Private Equity' nan\n",
      "  'Strategic Funding, Minority stake']\n",
      " ['31/01/2015' 'couponmachine.in' nan ... 'Seed Funding' '1,40,000' nan]]\n"
     ]
    }
   ],
   "source": [
    "print(file.values)"
   ]
  },
  {
   "cell_type": "code",
   "execution_count": 28,
   "id": "fc9c4841",
   "metadata": {},
   "outputs": [
    {
     "name": "stdout",
     "output_type": "stream",
     "text": [
      "          0                1  ...              8                                  9\n",
      "0     Sr No  Date dd/mm/yyyy  ...  Amount in USD                            Remarks\n",
      "1         1       09/01/2020  ...   20,00,00,000                                NaN\n",
      "2         2       13/01/2020  ...      80,48,394                                NaN\n",
      "3         3       09/01/2020  ...    1,83,58,860                                NaN\n",
      "4         4       02/01/2020  ...      30,00,000                                NaN\n",
      "...     ...              ...  ...            ...                                ...\n",
      "3040   3040       29/01/2015  ...      45,00,000                                NaN\n",
      "3041   3041       29/01/2015  ...       8,25,000                Govt backed VC Fund\n",
      "3042   3042       30/01/2015  ...      15,00,000                                NaN\n",
      "3043   3043       30/01/2015  ...            NaN  Strategic Funding, Minority stake\n",
      "3044   3044       31/01/2015  ...       1,40,000                                NaN\n",
      "\n",
      "[3045 rows x 10 columns]\n",
      "0       Date dd/mm/yyyy\n",
      "1            09/01/2020\n",
      "2            13/01/2020\n",
      "3            09/01/2020\n",
      "4            02/01/2020\n",
      "             ...       \n",
      "3040         29/01/2015\n",
      "3041         29/01/2015\n",
      "3042         30/01/2015\n",
      "3043         30/01/2015\n",
      "3044         31/01/2015\n",
      "Name: 1, Length: 3045, dtype: object\n",
      "0                          1\n",
      "1                 09/01/2020\n",
      "2                     BYJU’S\n",
      "3                     E-Tech\n",
      "4                 E-learning\n",
      "5                  Bengaluru\n",
      "6    Tiger Global Management\n",
      "7       Private Equity Round\n",
      "8               20,00,00,000\n",
      "9                        NaN\n",
      "Name: 1, dtype: object\n"
     ]
    }
   ],
   "source": [
    "import pandas as pd\n",
    "\n",
    "file = pd.read_csv(\"c:/Users/Lenovo/Desktop/startup_funding.csv\" , header = None)\n",
    "print(file)\n",
    "print(file[1])\n",
    "print(file.loc[1])\n"
   ]
  },
  {
   "cell_type": "code",
   "execution_count": 1,
   "id": "08ac9dca",
   "metadata": {},
   "outputs": [
    {
     "ename": "NameError",
     "evalue": "name 'file' is not defined",
     "output_type": "error",
     "traceback": [
      "\u001b[1;31m---------------------------------------------------------------------------\u001b[0m",
      "\u001b[1;31mNameError\u001b[0m                                 Traceback (most recent call last)",
      "Cell \u001b[1;32mIn[1], line 1\u001b[0m\n\u001b[1;32m----> 1\u001b[0m file\u001b[38;5;241m.\u001b[39mindex\n\u001b[0;32m      2\u001b[0m file\u001b[38;5;241m.\u001b[39mdrop([\u001b[38;5;241m1\u001b[39m,\u001b[38;5;241m2\u001b[39m,\u001b[38;5;241m3\u001b[39m,\u001b[38;5;241m4\u001b[39m] , inplace \u001b[38;5;241m=\u001b[39m \u001b[38;5;28;01mTrue\u001b[39;00m)\n\u001b[0;32m      3\u001b[0m file\u001b[38;5;241m.\u001b[39mdrop( file\u001b[38;5;241m.\u001b[39mindex[\u001b[38;5;241m0\u001b[39m,\u001b[38;5;241m2\u001b[39m,\u001b[38;5;241m3\u001b[39m,\u001b[38;5;241m6\u001b[39m] , inplace \u001b[38;5;241m=\u001b[39m \u001b[38;5;28;01mTrue\u001b[39;00m)\n",
      "\u001b[1;31mNameError\u001b[0m: name 'file' is not defined"
     ]
    }
   ],
   "source": [
    "file.index\n",
    "file.drop([1,2,3,4] , inplace = True)\n",
    "file.drop( file.index[0,2,3,6] , inplace = True)"
   ]
  },
  {
   "cell_type": "code",
   "execution_count": 7,
   "id": "71d73a79",
   "metadata": {},
   "outputs": [
    {
     "name": "stdout",
     "output_type": "stream",
     "text": [
      "0\n"
     ]
    }
   ],
   "source": [
    "def birthday(arr, d, m):\n",
    "    # Write your code here\n",
    "    \n",
    "    way = 0\n",
    "    \n",
    "    for i in range(len(arr)):\n",
    "        sum_arr = 0\n",
    "        arr1 = []\n",
    "        \n",
    "        if i+m+1 <= len(arr):\n",
    "            arr1 = arr[i:i+m+1]\n",
    "            \n",
    "            sum_arr = sum(arr1)\n",
    "            \n",
    "            if sum_arr == d:\n",
    "                way += 1\n",
    "    \n",
    "    return print(way)\n",
    "\n",
    "birthday([1,1,1,1,1,1,1,1,11,11,1,1,1,1,1,1] , 8,4)"
   ]
  }
 ],
 "metadata": {
  "kernelspec": {
   "display_name": "Python 3 (ipykernel)",
   "language": "python",
   "name": "python3"
  },
  "language_info": {
   "codemirror_mode": {
    "name": "ipython",
    "version": 3
   },
   "file_extension": ".py",
   "mimetype": "text/x-python",
   "name": "python",
   "nbconvert_exporter": "python",
   "pygments_lexer": "ipython3",
   "version": "3.11.3"
  },
  "varInspector": {
   "cols": {
    "lenName": 16,
    "lenType": 16,
    "lenVar": 40
   },
   "kernels_config": {
    "python": {
     "delete_cmd_postfix": "",
     "delete_cmd_prefix": "del ",
     "library": "var_list.py",
     "varRefreshCmd": "print(var_dic_list())"
    },
    "r": {
     "delete_cmd_postfix": ") ",
     "delete_cmd_prefix": "rm(",
     "library": "var_list.r",
     "varRefreshCmd": "cat(var_dic_list()) "
    }
   },
   "types_to_exclude": [
    "module",
    "function",
    "builtin_function_or_method",
    "instance",
    "_Feature"
   ],
   "window_display": false
  }
 },
 "nbformat": 4,
 "nbformat_minor": 5
}
