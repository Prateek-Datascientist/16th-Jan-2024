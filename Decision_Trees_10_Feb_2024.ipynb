{
  "nbformat": 4,
  "nbformat_minor": 0,
  "metadata": {
    "colab": {
      "provenance": [],
      "authorship_tag": "ABX9TyPHhXSr6XrnRNJWJ22CV5Yj",
      "include_colab_link": true
    },
    "kernelspec": {
      "name": "python3",
      "display_name": "Python 3"
    },
    "language_info": {
      "name": "python"
    }
  },
  "cells": [
    {
      "cell_type": "markdown",
      "metadata": {
        "id": "view-in-github",
        "colab_type": "text"
      },
      "source": [
        "<a href=\"https://colab.research.google.com/github/Prateek-Datascientist/16th-Jan-2024/blob/main/Decision_Trees_10_Feb_2024.ipynb\" target=\"_parent\"><img src=\"https://colab.research.google.com/assets/colab-badge.svg\" alt=\"Open In Colab\"/></a>"
      ]
    },
    {
      "cell_type": "code",
      "execution_count": 3,
      "metadata": {
        "id": "7hdzCD9sQUzR"
      },
      "outputs": [],
      "source": [
        "from sklearn import datasets\n",
        "from sklearn.model_selection import train_test_split\n",
        "from sklearn.tree import DecisionTreeClassifier\n",
        "from sklearn.tree import  export_graphviz"
      ]
    },
    {
      "cell_type": "code",
      "source": [
        "iris = datasets.load_iris()\n",
        "xtrain, xtest, ytrain, ytest = train_test_split(iris.data, iris.target)\n",
        "clf = DecisionTreeClassifier()\n",
        "clf.fit(xtrain , ytrain)\n",
        "ytestpred = clf.predict(xtest)\n",
        "ytrainpred = clf.predict(xtrain)\n"
      ],
      "metadata": {
        "id": "4gjErWl6RJ-u"
      },
      "execution_count": 14,
      "outputs": []
    },
    {
      "cell_type": "code",
      "source": [
        "score1 = clf.score(xtrain, ytrain)\n",
        "score2 = clf.score(xtest, ytest)\n",
        "print(score1)\n",
        "print(round(score2, 3))"
      ],
      "metadata": {
        "colab": {
          "base_uri": "https://localhost:8080/"
        },
        "id": "sH2UaKHiSIE_",
        "outputId": "17f97559-0521-428f-b221-e7b799ddda81"
      },
      "execution_count": 17,
      "outputs": [
        {
          "output_type": "stream",
          "name": "stdout",
          "text": [
            "1.0\n",
            "0.974\n"
          ]
        }
      ]
    },
    {
      "cell_type": "code",
      "source": [
        "from sklearn.metrics import confusion_matrix\n",
        "confusion_matrix(ytestpred, ytest)"
      ],
      "metadata": {
        "colab": {
          "base_uri": "https://localhost:8080/"
        },
        "id": "JxfLGK6-SIGh",
        "outputId": "6373d58c-ef99-469c-acf7-0f49ce4bbef5"
      },
      "execution_count": 21,
      "outputs": [
        {
          "output_type": "execute_result",
          "data": {
            "text/plain": [
              "array([[12,  0,  0],\n",
              "       [ 0, 11,  0],\n",
              "       [ 0,  1, 14]])"
            ]
          },
          "metadata": {},
          "execution_count": 21
        }
      ]
    },
    {
      "cell_type": "code",
      "source": [
        "confusion_matrix(ytrain , ytrainpred)"
      ],
      "metadata": {
        "colab": {
          "base_uri": "https://localhost:8080/"
        },
        "id": "96f9XXV2SIJF",
        "outputId": "fb8c4c67-ee5a-4b75-d315-97ced290e1af"
      },
      "execution_count": 20,
      "outputs": [
        {
          "output_type": "execute_result",
          "data": {
            "text/plain": [
              "array([[38,  0,  0],\n",
              "       [ 0, 38,  0],\n",
              "       [ 0,  0, 36]])"
            ]
          },
          "metadata": {},
          "execution_count": 20
        }
      ]
    },
    {
      "cell_type": "markdown",
      "source": [
        "## Now, we'll visualize the decision tree by converting it to pdf"
      ],
      "metadata": {
        "id": "dTJnCPsyTavv"
      }
    },
    {
      "cell_type": "code",
      "source": [
        "from sklearn.tree import  export_graphviz\n",
        "dot_data= export_graphviz(clf)\n",
        "\n",
        "import pydotplus\n",
        "graph  = pydotplus.graph_from_dot_data(dot_data )\n",
        "graph.write_pdf(\"iris.pdf\")\n",
        "\n",
        "print(type(dot_data))\n",
        "print(type(graph))\n"
      ],
      "metadata": {
        "colab": {
          "base_uri": "https://localhost:8080/"
        },
        "id": "rZk8eo-QSIK8",
        "outputId": "7dd45695-0d20-4c9f-d56a-4d218860b258"
      },
      "execution_count": 39,
      "outputs": [
        {
          "output_type": "stream",
          "name": "stdout",
          "text": [
            "<class 'str'>\n",
            "<class 'pydotplus.graphviz.Dot'>\n",
            "<class 'bool'>\n"
          ]
        }
      ]
    },
    {
      "cell_type": "code",
      "source": [
        "from sklearn.tree import  export_graphviz\n",
        "dot_data= export_graphviz(clf, feature_names= iris.feature_names , class_names= iris.target_names)\n",
        "import pydotplus\n",
        "graph  = pydotplus.graph_from_dot_data(dot_data)\n",
        "graph.write_pdf(\"iris1.pdf\")"
      ],
      "metadata": {
        "colab": {
          "base_uri": "https://localhost:8080/"
        },
        "id": "FfFpJzkTSIOe",
        "outputId": "0ecbd18c-4d79-4cc6-b1a5-6c6f93b46e27"
      },
      "execution_count": 35,
      "outputs": [
        {
          "output_type": "execute_result",
          "data": {
            "text/plain": [
              "True"
            ]
          },
          "metadata": {},
          "execution_count": 35
        }
      ]
    },
    {
      "cell_type": "code",
      "source": [],
      "metadata": {
        "id": "3e0LGwokRpmt"
      },
      "execution_count": 10,
      "outputs": []
    }
  ]
}