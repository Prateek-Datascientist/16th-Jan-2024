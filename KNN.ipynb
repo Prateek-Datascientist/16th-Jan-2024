{
  "nbformat": 4,
  "nbformat_minor": 0,
  "metadata": {
    "colab": {
      "provenance": [],
      "authorship_tag": "ABX9TyM+nckAUB35X3UVQ+R3G0Ui",
      "include_colab_link": true
    },
    "kernelspec": {
      "name": "python3",
      "display_name": "Python 3"
    },
    "language_info": {
      "name": "python"
    }
  },
  "cells": [
    {
      "cell_type": "markdown",
      "metadata": {
        "id": "view-in-github",
        "colab_type": "text"
      },
      "source": [
        "<a href=\"https://colab.research.google.com/github/Prateek-Datascientist/16th-Jan-2024/blob/main/KNN.ipynb\" target=\"_parent\"><img src=\"https://colab.research.google.com/assets/colab-badge.svg\" alt=\"Open In Colab\"/></a>"
      ]
    },
    {
      "cell_type": "code",
      "execution_count": null,
      "metadata": {
        "id": "jd-Tiqt0HXWH"
      },
      "outputs": [],
      "source": [
        "from sklearn.model_selection import cross_val_score\n",
        "from sklearn.neighbors import KNeighborsClassifier\n",
        "from sklearn.model_selection import train_test_split\n",
        "import seaborn as sns\n",
        "from sklearn import datasets"
      ]
    },
    {
      "cell_type": "code",
      "source": [
        "iris = datasets.load_iris()\n",
        "data = iris.data\n",
        "target = iris.target\n",
        "xtrain, xtest, ytrain , ytest = train_test_split(data, target, random_state=0, test_size= 0.2)"
      ],
      "metadata": {
        "id": "Aff4AkOEIrwJ"
      },
      "execution_count": null,
      "outputs": []
    },
    {
      "cell_type": "code",
      "source": [
        "xtrain, xtest, ytrain , ytest = train_test_split(data, target, random_state=0, test_size= 0.2)\n",
        "clf = KNeighborsClassifier()\n",
        "clf.fit(xtrain, ytrain)\n",
        "score = clf.score(xtest, ytest)\n",
        "score\n"
      ],
      "metadata": {
        "colab": {
          "base_uri": "https://localhost:8080/"
        },
        "id": "6Pu6oXFNJNvW",
        "outputId": "d1db50c2-27b2-4fbd-ff1c-ea9774efdeb7"
      },
      "execution_count": null,
      "outputs": [
        {
          "output_type": "execute_result",
          "data": {
            "text/plain": [
              "0.9666666666666667"
            ]
          },
          "metadata": {},
          "execution_count": 9
        }
      ]
    },
    {
      "cell_type": "code",
      "source": [
        "clf = KNeighborsClassifier(n_neighbors= 25)\n",
        "clf.fit(xtrain, ytrain)\n",
        "score = clf.score(xtest, ytest)\n",
        "score"
      ],
      "metadata": {
        "colab": {
          "base_uri": "https://localhost:8080/"
        },
        "id": "Xm9Lkg0oJ8hU",
        "outputId": "429cde20-557a-4685-9d47-2d5019513348"
      },
      "execution_count": null,
      "outputs": [
        {
          "output_type": "execute_result",
          "data": {
            "text/plain": [
              "1.0"
            ]
          },
          "metadata": {},
          "execution_count": 10
        }
      ]
    },
    {
      "cell_type": "markdown",
      "source": [
        "Finding optimal k graphically"
      ],
      "metadata": {
        "id": "c-uzAXqIJ6y_"
      }
    },
    {
      "cell_type": "code",
      "source": [
        "x = []\n",
        "y = []\n",
        "for i in range(1,26,2):\n",
        "  clf = KNeighborsClassifier(n_neighbors= i)\n",
        "  clf.fit(xtrain, ytrain)\n",
        "  score = cross_val_score(clf, xtrain, ytrain)\n",
        "  x.append(i)\n",
        "  y.append(score.mean())\n",
        "\n",
        "sns.lineplot(x= x, y = y)\n"
      ],
      "metadata": {
        "colab": {
          "base_uri": "https://localhost:8080/",
          "height": 452
        },
        "id": "Z7cDHR0AJcWT",
        "outputId": "09819dba-6fea-46dc-fa3a-b24b5acf9ab2"
      },
      "execution_count": null,
      "outputs": [
        {
          "output_type": "execute_result",
          "data": {
            "text/plain": [
              "<Axes: >"
            ]
          },
          "metadata": {},
          "execution_count": 11
        },
        {
          "output_type": "display_data",
          "data": {
            "text/plain": [
              "<Figure size 640x480 with 1 Axes>"
            ],
            "image/png": "[encoded data removed]"
          },
          "metadata": {}
        }
      ]
    },
    {
      "cell_type": "code",
      "source": [
        "for i in y: print(i)"
      ],
      "metadata": {
        "colab": {
          "base_uri": "https://localhost:8080/"
        },
        "id": "jDqZAGO3JcxM",
        "outputId": "c8438269-1bb7-47ed-e219-428973e1d341"
      },
      "execution_count": null,
      "outputs": [
        {
          "output_type": "stream",
          "name": "stdout",
          "text": [
            "0.9416666666666667\n",
            "0.925\n",
            "0.9333333333333333\n",
            "0.95\n",
            "0.9583333333333334\n",
            "0.9583333333333334\n",
            "0.9583333333333334\n",
            "0.9583333333333334\n",
            "0.9416666666666668\n",
            "0.9416666666666668\n",
            "0.9416666666666668\n",
            "0.95\n",
            "0.925\n"
          ]
        }
      ]
    },
    {
      "cell_type": "code",
      "source": [
        "from sklearn.neighbors import KNeighborsClassifier\n",
        "from sklearn import datasets\n",
        "from sklearn.metrics import accuracy_score\n",
        "from sklearn.model_selection import cross_val_score\n",
        "from sklearn.model_selection import KFold\n",
        "from sklearn.model_selection import train_test_split"
      ],
      "metadata": {
        "id": "gad98d1HJcyn"
      },
      "execution_count": null,
      "outputs": []
    },
    {
      "cell_type": "code",
      "source": [
        "iris = datasets.load_iris()\n",
        "data = iris.data\n",
        "target = iris.target\n",
        "xtrain, xtest, ytrain , ytest = train_test_split(data, target, random_state=0, test_size= 0.2)"
      ],
      "metadata": {
        "id": "qQx4OQr9Jc11"
      },
      "execution_count": null,
      "outputs": []
    },
    {
      "cell_type": "code",
      "source": [
        "\n",
        "for i in range(1,24,2):\n",
        "  clf1 = KNeighborsClassifier(n_neighbors=i)\n",
        "  score = cross_val_score(clf1, xtrain, ytrain, )\n",
        "  print(score.mean(), i)"
      ],
      "metadata": {
        "id": "m98K1GPQJc3g",
        "colab": {
          "base_uri": "https://localhost:8080/"
        },
        "outputId": "214d2834-5d11-456f-f8b0-32d5bbb45383"
      },
      "execution_count": null,
      "outputs": [
        {
          "output_type": "stream",
          "name": "stdout",
          "text": [
            "0.9416666666666667 1\n",
            "0.925 3\n",
            "0.9333333333333333 5\n",
            "0.95 7\n",
            "0.9583333333333334 9\n",
            "0.9583333333333334 11\n",
            "0.9583333333333334 13\n",
            "0.9583333333333334 15\n",
            "0.9416666666666668 17\n",
            "0.9416666666666668 19\n",
            "0.9416666666666668 21\n",
            "0.95 23\n"
          ]
        }
      ]
    },
    {
      "cell_type": "code",
      "source": [
        "ytest"
      ],
      "metadata": {
        "id": "xpv6Al05Jc7X",
        "colab": {
          "base_uri": "https://localhost:8080/"
        },
        "outputId": "71d40d83-8d8c-4d55-b88a-50544aafa431"
      },
      "execution_count": null,
      "outputs": [
        {
          "output_type": "execute_result",
          "data": {
            "text/plain": [
              "array([2, 1, 0, 2, 0, 2, 0, 1, 1, 1, 2, 1, 1, 1, 1, 0, 1, 1, 0, 0, 2, 1,\n",
              "       0, 0, 2, 0, 0, 1, 1, 0])"
            ]
          },
          "metadata": {},
          "execution_count": 19
        }
      ]
    }
  ]
}