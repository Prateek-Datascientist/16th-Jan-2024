{
  "nbformat": 4,
  "nbformat_minor": 0,
  "metadata": {
    "colab": {
      "provenance": [],
      "authorship_tag": "ABX9TyOb1MBXarjOsyErViV7Bmcd"
    },
    "kernelspec": {
      "name": "python3",
      "display_name": "Python 3"
    },
    "language_info": {
      "name": "python"
    }
  },
  "cells": [
    {
      "cell_type": "code",
      "execution_count": null,
      "metadata": {
        "id": "uJDs20sqKoD1"
      },
      "outputs": [],
      "source": [
        "import tensorflow as tf"
      ]
    },
    {
      "cell_type": "markdown",
      "source": [],
      "metadata": {
        "id": "N-ByATdMWgkP"
      }
    },
    {
      "cell_type": "code",
      "source": [
        "(xtrain, ytrain) , (xtest, ytest) = tf.keras.datasets.mnist.load_data()"
      ],
      "metadata": {
        "colab": {
          "base_uri": "https://localhost:8080/"
        },
        "id": "PvlxDTexKspa",
        "outputId": "3167d5f5-94f7-42ad-9257-584e6104e753"
      },
      "execution_count": null,
      "outputs": [
        {
          "output_type": "stream",
          "name": "stdout",
          "text": [
            "Downloading data from https://storage.googleapis.com/tensorflow/tf-keras-datasets/mnist.npz\n",
            "11490434/11490434 [==============================] - 0s 0us/step\n"
          ]
        }
      ]
    },
    {
      "cell_type": "code",
      "source": [
        "import matplotlib.pyplot as plt\n",
        "figure= plt.figure(figsize = (4,4))\n",
        "plt.imshow(xtrain[0])\n",
        "ytrain[0]"
      ],
      "metadata": {
        "colab": {
          "base_uri": "https://localhost:8080/",
          "height": 385
        },
        "id": "gkRZXZTFWsDH",
        "outputId": "43d43458-b51a-4d2a-e50d-74ac2b5fa43a"
      },
      "execution_count": null,
      "outputs": [
        {
          "output_type": "execute_result",
          "data": {
            "text/plain": [
              "5"
            ]
          },
          "metadata": {},
          "execution_count": 3
        },
        {
          "output_type": "display_data",
          "data": {
            "text/plain": [
              "<Figure size 400x400 with 1 Axes>"
            ],
            "image/png": "[encoded data removed]"
          },
          "metadata": {}
        }
      ]
    },
    {
      "cell_type": "code",
      "source": [
        "print(xtrain.shape)\n",
        "print(ytrain.shape)\n",
        "print(xtest.shape)\n",
        "print(ytest.shape)"
      ],
      "metadata": {
        "colab": {
          "base_uri": "https://localhost:8080/"
        },
        "id": "WMIlMPgUKtFH",
        "outputId": "e3f919cd-61f7-45b7-a95c-ed2e6d2ebb4d"
      },
      "execution_count": null,
      "outputs": [
        {
          "output_type": "stream",
          "name": "stdout",
          "text": [
            "(60000, 28, 28)\n",
            "(60000,)\n",
            "(10000, 28, 28)\n",
            "(10000,)\n"
          ]
        }
      ]
    },
    {
      "cell_type": "code",
      "source": [
        "xtrain = xtrain.reshape(60000, -1 )/255.0\n",
        "xtest = xtest.reshape(10000, -1 )/255.0\n",
        "xtrain.shape"
      ],
      "metadata": {
        "colab": {
          "base_uri": "https://localhost:8080/"
        },
        "id": "8v2Gd8IXKtGh",
        "outputId": "062c8b29-44e9-40ad-da90-6716f6c12601"
      },
      "execution_count": null,
      "outputs": [
        {
          "output_type": "execute_result",
          "data": {
            "text/plain": [
              "(60000, 784)"
            ]
          },
          "metadata": {},
          "execution_count": 5
        }
      ]
    },
    {
      "cell_type": "code",
      "source": [
        "ytrain = tf.keras.utils.to_categorical(ytrain)\n",
        "print(ytrain.shape)\n",
        "\n",
        "ytest = tf.keras.utils.to_categorical(ytest)\n",
        "ytest.shape\n"
      ],
      "metadata": {
        "colab": {
          "base_uri": "https://localhost:8080/"
        },
        "id": "vhbUdw8pKtLQ",
        "outputId": "10b6e50b-01d0-46b6-e68b-c3dd31dd80c8"
      },
      "execution_count": null,
      "outputs": [
        {
          "output_type": "stream",
          "name": "stdout",
          "text": [
            "(60000, 10)\n"
          ]
        },
        {
          "output_type": "execute_result",
          "data": {
            "text/plain": [
              "(10000, 10)"
            ]
          },
          "metadata": {},
          "execution_count": 6
        }
      ]
    },
    {
      "cell_type": "code",
      "source": [],
      "metadata": {
        "id": "EKGMI7LAYBXj"
      },
      "execution_count": null,
      "outputs": []
    },
    {
      "cell_type": "code",
      "source": [
        "from tensorflow.keras import Sequential, Model\n",
        "from tensorflow.keras.layers import Dense, Input, Concatenate\n",
        "\n",
        "model = Sequential()\n",
        "model.add(Dense(256, activation = 'relu' , input_shape = (784,)))\n",
        "model.add(Dense(256, activation = 'relu' ))\n",
        "model.add(Dense(10, activation = 'softmax'))\n"
      ],
      "metadata": {
        "id": "JxvD9q0Rh1jg"
      },
      "execution_count": null,
      "outputs": []
    },
    {
      "cell_type": "code",
      "source": [
        "model.compile(optimizer='adam' , loss= 'categorical_crossentropy' , metrics = ['accuracy'] )\n",
        "print(xtrain.shape)\n",
        "print(ytrain.shape)"
      ],
      "metadata": {
        "colab": {
          "base_uri": "https://localhost:8080/"
        },
        "id": "Zr_aBukRn49W",
        "outputId": "987b78d9-cfa5-46f9-c24b-53822d1f0f10"
      },
      "execution_count": null,
      "outputs": [
        {
          "output_type": "stream",
          "name": "stdout",
          "text": [
            "(60000, 784)\n",
            "(60000, 10)\n"
          ]
        }
      ]
    },
    {
      "cell_type": "code",
      "source": [
        "model.fit(xtrain, ytrain, epochs= 15, batch_size= 6000)"
      ],
      "metadata": {
        "colab": {
          "base_uri": "https://localhost:8080/"
        },
        "id": "pwamDxguocWG",
        "outputId": "94829b2b-f608-4406-dc72-10a6f0f679c5"
      },
      "execution_count": null,
      "outputs": [
        {
          "output_type": "stream",
          "name": "stdout",
          "text": [
            "Epoch 1/15\n",
            "10/10 [==============================] - 2s 134ms/step - loss: 1.5403 - accuracy: 0.6318\n",
            "Epoch 2/15\n",
            "10/10 [==============================] - 1s 132ms/step - loss: 0.5420 - accuracy: 0.8518\n",
            "Epoch 3/15\n",
            "10/10 [==============================] - 1s 135ms/step - loss: 0.3527 - accuracy: 0.8961\n",
            "Epoch 4/15\n",
            "10/10 [==============================] - 1s 132ms/step - loss: 0.2856 - accuracy: 0.9167\n",
            "Epoch 5/15\n",
            "10/10 [==============================] - 1s 132ms/step - loss: 0.2446 - accuracy: 0.9291\n",
            "Epoch 6/15\n",
            "10/10 [==============================] - 1s 133ms/step - loss: 0.2166 - accuracy: 0.9381\n",
            "Epoch 7/15\n",
            "10/10 [==============================] - 1s 135ms/step - loss: 0.1924 - accuracy: 0.9453\n",
            "Epoch 8/15\n",
            "10/10 [==============================] - 2s 225ms/step - loss: 0.1744 - accuracy: 0.9502\n",
            "Epoch 9/15\n",
            "10/10 [==============================] - 1s 131ms/step - loss: 0.1576 - accuracy: 0.9548\n",
            "Epoch 10/15\n",
            "10/10 [==============================] - 1s 133ms/step - loss: 0.1443 - accuracy: 0.9592\n",
            "Epoch 11/15\n",
            "10/10 [==============================] - 1s 135ms/step - loss: 0.1317 - accuracy: 0.9622\n",
            "Epoch 12/15\n",
            "10/10 [==============================] - 1s 132ms/step - loss: 0.1207 - accuracy: 0.9661\n",
            "Epoch 13/15\n",
            "10/10 [==============================] - 1s 133ms/step - loss: 0.1110 - accuracy: 0.9687\n",
            "Epoch 14/15\n",
            "10/10 [==============================] - 1s 129ms/step - loss: 0.1036 - accuracy: 0.9710\n",
            "Epoch 15/15\n",
            "10/10 [==============================] - 1s 129ms/step - loss: 0.0956 - accuracy: 0.9727\n"
          ]
        },
        {
          "output_type": "execute_result",
          "data": {
            "text/plain": [
              "<keras.src.callbacks.History at 0x78a11225fdf0>"
            ]
          },
          "metadata": {},
          "execution_count": 15
        }
      ]
    },
    {
      "cell_type": "code",
      "source": [
        "model.evaluate(xtest, ytest)"
      ],
      "metadata": {
        "colab": {
          "base_uri": "https://localhost:8080/"
        },
        "id": "0T2n3bXqqhz1",
        "outputId": "bc94c649-a9b9-4e75-cde6-1fade17c5722"
      },
      "execution_count": null,
      "outputs": [
        {
          "output_type": "stream",
          "name": "stdout",
          "text": [
            "313/313 [==============================] - 1s 2ms/step - loss: 0.1095 - accuracy: 0.9666\n"
          ]
        },
        {
          "output_type": "execute_result",
          "data": {
            "text/plain": [
              "[0.10948946326971054, 0.9666000008583069]"
            ]
          },
          "metadata": {},
          "execution_count": 16
        }
      ]
    },
    {
      "cell_type": "markdown",
      "source": [
        "## Now building a Functional API"
      ],
      "metadata": {
        "id": "mXzt_kR_UbSV"
      }
    },
    {
      "cell_type": "code",
      "source": [
        "model2 = Model()\n",
        "input = Input(shape= (784,) )"
      ],
      "metadata": {
        "id": "QevldzQ4qk_S"
      },
      "execution_count": null,
      "outputs": []
    },
    {
      "cell_type": "code",
      "source": [
        "h1 = Dense(256 , activation= 'relu')(input)            # h1 is output of layes, input is the 'input' of layer"
      ],
      "metadata": {
        "id": "HkPVu1lBRQUb"
      },
      "execution_count": null,
      "outputs": []
    },
    {
      "cell_type": "code",
      "source": [
        "h2 = Dense(256, activation = 'relu')(h1)\n",
        "h_up = Dense(256, activation = 'relu')(input)\n",
        "concact = Concatenate()([h_up, h2])\n",
        "output = Dense(10, activation = 'softmax')(concact)\n"
      ],
      "metadata": {
        "id": "FraVQiwBSCH6"
      },
      "execution_count": null,
      "outputs": []
    },
    {
      "cell_type": "code",
      "source": [
        "model2 = Model(inputs = [input] , outputs = [output])\n",
        "model2.compile(optimizer = 'adam' , loss= 'categorical_crossentropy', metrics= 'accuracy')\n",
        "\n",
        "model2.fit( xtrain, ytrain, batch_size= 10000, epochs= 3)"
      ],
      "metadata": {
        "colab": {
          "base_uri": "https://localhost:8080/"
        },
        "id": "5GXX1RRvSaEf",
        "outputId": "3ea2459e-ac2d-4ff2-fa06-a10fc8a6888e"
      },
      "execution_count": null,
      "outputs": [
        {
          "output_type": "stream",
          "name": "stdout",
          "text": [
            "Epoch 1/3\n",
            "6/6 [==============================] - 4s 422ms/step - loss: 0.0391 - accuracy: 0.9886\n",
            "Epoch 2/3\n",
            "6/6 [==============================] - 2s 375ms/step - loss: 0.0331 - accuracy: 0.9907\n",
            "Epoch 3/3\n",
            "6/6 [==============================] - 2s 365ms/step - loss: 0.0290 - accuracy: 0.9922\n"
          ]
        },
        {
          "output_type": "execute_result",
          "data": {
            "text/plain": [
              "<keras.src.callbacks.History at 0x78a0f22f1e40>"
            ]
          },
          "metadata": {},
          "execution_count": 28
        }
      ]
    },
    {
      "cell_type": "code",
      "source": [
        "model2.evaluate(xtest, ytest)"
      ],
      "metadata": {
        "colab": {
          "base_uri": "https://localhost:8080/"
        },
        "id": "RnlFih_FSaoN",
        "outputId": "4190ffb6-4932-4ba9-e976-25952e14a3f5"
      },
      "execution_count": null,
      "outputs": [
        {
          "output_type": "stream",
          "name": "stdout",
          "text": [
            "313/313 [==============================] - 1s 4ms/step - loss: 0.0575 - accuracy: 0.9827\n"
          ]
        },
        {
          "output_type": "execute_result",
          "data": {
            "text/plain": [
              "[0.05750222131609917, 0.982699990272522]"
            ]
          },
          "metadata": {},
          "execution_count": 29
        }
      ]
    },
    {
      "cell_type": "code",
      "source": [],
      "metadata": {
        "id": "aJ8cxWeoSapz"
      },
      "execution_count": null,
      "outputs": []
    }
  ]
}