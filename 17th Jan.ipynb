{
 "cells": [
  {
   "cell_type": "code",
   "execution_count": 40,
   "id": "8f6da527",
   "metadata": {},
   "outputs": [
    {
     "data": {
      "text/plain": [
       "[0, 3]"
      ]
     },
     "execution_count": 40,
     "metadata": {},
     "output_type": "execute_result"
    }
   ],
   "source": [
    "# Comparing triplets by a function and assigning points\n",
    "\n",
    "def compareTriplets(a, b):\n",
    "     \n",
    "    points_a = 0\n",
    "    points_b = 0\n",
    "    for i in range(len(a)):\n",
    "        if a[i] > b[i]:\n",
    "            points_a += 1\n",
    "        elif a[i] < b[i]:\n",
    "            points_b += 1\n",
    "    \n",
    "    return [points_a , points_b]\n",
    "\n",
    "compareTriplets([1,2,3] , [2,5,6])"
   ]
  },
  {
   "cell_type": "code",
   "execution_count": 39,
   "id": "2588f15a",
   "metadata": {},
   "outputs": [
    {
     "name": "stdout",
     "output_type": "stream",
     "text": [
      "{2: 22, 1: 33, 'k1': 1, 7: 22}\n",
      "dict_items([(2, 22), (1, 33), ('k1', 1), (7, 22)])\n",
      "alpha\n",
      "{1: 2, 'python': 11, 'C++': '11'}\n",
      "dict_items([(1, 2), ('python', 11), ('C++', '11')])\n"
     ]
    }
   ],
   "source": [
    "#Forming dictionaries by diff syntaxes\n",
    "\n",
    "# Syntax 1\n",
    "\n",
    "d1 = {2:22 , 1:33, 'k1':1 , 7:22}\n",
    "print(d1)\n",
    "print(d1.items())\n",
    "print(d1.get('key1' , \"alpha\"))\n",
    "\n",
    "# Syntax 2\n",
    "\n",
    "b = [(1,2) , (\"python\" , 11) , (\"C++\" , '11')]\n",
    "a = dict(b)\n",
    "print(a)\n",
    "print(a.items())"
   ]
  },
  {
   "cell_type": "code",
   "execution_count": 22,
   "id": "825b2087",
   "metadata": {},
   "outputs": [
    {
     "name": "stdout",
     "output_type": "stream",
     "text": [
      "2\n",
      "3\n",
      "1\n"
     ]
    }
   ],
   "source": [
    "# Getting data from index in list, tuples, strings\n",
    "\n",
    "a1 = 'abcdefg'\n",
    "a2 = [1,2,3,34,5,65]\n",
    "a3 = (1,2,4,6,74,4,6,7)\n",
    "\n",
    "print(a1.find('c'))\n",
    "print(a2.index(34))\n",
    "print(a3.index(2))\n",
    "\n",
    "# Analysis: get() = dictionary, index() = list/tuple,  find() = string"
   ]
  },
  {
   "cell_type": "code",
   "execution_count": 15,
   "id": "2c3eaaca",
   "metadata": {},
   "outputs": [
    {
     "name": "stdout",
     "output_type": "stream",
     "text": [
      "1 (2, 3, 22, 3, 5)\n",
      "<class 'tuple'>\n"
     ]
    },
    {
     "data": {
      "text/plain": [
       "36"
      ]
     },
     "execution_count": 15,
     "metadata": {},
     "output_type": "execute_result"
    }
   ],
   "source": [
    "# Variable length input, output\n",
    "\n",
    "\n",
    "def sum(a, *b):\n",
    "    print(a,b)\n",
    "    print(type(b))\n",
    "    sum = a\n",
    "    \n",
    "    for i in b:\n",
    "        sum += i\n",
    "    \n",
    "    return sum\n",
    "\n",
    "\n",
    "sum(1,2,3,22,3,5)\n",
    "    "
   ]
  },
  {
   "cell_type": "code",
   "execution_count": 21,
   "id": "dbc70426",
   "metadata": {},
   "outputs": [
    {
     "name": "stdout",
     "output_type": "stream",
     "text": [
      "(1, 2, 3, 'asc', 'jupyter')\n",
      "(1, 2, 3, 1, 2, 3)\n",
      "('asc', 'jupyter', 'asc', 'jupyter', 'asc', 'jupyter')\n",
      "None\n",
      "[3, 3, 3, 3, 2, 2, 2, 2, 1, 1, 1, 1]\n"
     ]
    }
   ],
   "source": [
    "# Adding, multiplying, sorting tuples\n",
    "\n",
    "a= (1,2,3)\n",
    "b = ('asc', 'jupyter')\n",
    "print(a+b)\n",
    "print(a*2)\n",
    "print(b*3)\n",
    "print(list(a*4).sort())\n",
    "l1 = list(a*4)\n",
    "l1.sort()     # We can't write l1.sort().reverse() its an error. We have to do these operations separately \n",
    "l1.reverse()\n",
    "print(l1)"
   ]
  },
  {
   "cell_type": "code",
   "execution_count": 11,
   "id": "22df7133",
   "metadata": {},
   "outputs": [
    {
     "name": "stdout",
     "output_type": "stream",
     "text": [
      "(1, 2)\n",
      "2 33\n",
      "<class 'int'> <class 'tuple'> <class 'tuple'>\n",
      "1234\n",
      "[1, 2, 3, 11]\n",
      "(1, 33, 'dd', 'sdck')\n"
     ]
    }
   ],
   "source": [
    "# Working with tuples, lists and strings\n",
    "\n",
    "a = 1,2\n",
    "print(a)\n",
    "\n",
    "b,c = 2,33\n",
    "print(b, c, end='\\n')\n",
    "\n",
    "b = (1)     # Single integer in brackets does not form a tuple.\n",
    "c = (1,2)\n",
    "d = ()\n",
    "print(type(b), type(c), type(d))\n",
    "\n",
    "b = ('1','2','3','4')\n",
    "print(''.join(b))      #This join() function works only when there 'str' data type inside tupe / list. It fails with 'int'\n",
    "\n",
    "\n",
    "# converting tuple to list and vice vera\n",
    "\n",
    "a = (1,2,3,11)\n",
    "b = list(a)\n",
    "print(b)   # Tuple to list\n",
    "\n",
    "a = [1,33,'dd', 'sdck']\n",
    "b = tuple(a)\n",
    "print(b)  # List to tuple"
   ]
  },
  {
   "cell_type": "code",
   "execution_count": 11,
   "id": "aa1df943",
   "metadata": {},
   "outputs": [
    {
     "name": "stdout",
     "output_type": "stream",
     "text": [
      "[[1, 2, 3, 4, 5], [1, 2, 33], [1, 4, 3, 2, 1]]\n",
      "[[1, 2, 3], [1, 4, 3, 2, 1]]\n",
      "[[1, 2, 3, 4, 5], [1, 2, 33], [1, 4, 3, 2, 1]]\n"
     ]
    }
   ],
   "source": [
    "# Checking sort function in 2d lists\n",
    "\n",
    "a = [[1,2,3,4,5], [1,4,3,2,1], [1,2,33]]\n",
    "a.sort()\n",
    "print(a)\n",
    "\n",
    "a = [ [1,4,3,2,1], [1,2,3]]\n",
    "a.sort()\n",
    "print(a)\n",
    "\n",
    "\n",
    "a = [ [1,4,3,2,1], [1,2,33], [1,2,3,4,5]]\n",
    "a.sort()\n",
    "print(a)\n",
    "\n",
    "# We conclude that 1st element is taken into account, and length of list is not considered as any criterion in sorting\n",
    "# Moreover sorting is done in ascending order by default (same as \"order by in SQL\")\n"
   ]
  },
  {
   "cell_type": "code",
   "execution_count": 16,
   "id": "a04e0299",
   "metadata": {},
   "outputs": [
    {
     "name": "stdout",
     "output_type": "stream",
     "text": [
      "[1, 2, 3, 4, 1]\n",
      "[9, 8, 7, 6, 5, 4, 3, 2, 1]\n",
      "[[1, 2, 33], [1, 4, 3, 2, 1], [1, 2, 3, 4, 5]]\n",
      "[[1, 2, 33], [1, 4, 3, 2, 1], [1, 2, 3, 4, 5], [0, 0, 0, 1, 1, 1]]\n"
     ]
    }
   ],
   "source": [
    "# Now checking reverse() function\n",
    "\n",
    "a =  [1,4,3,2,1]\n",
    "a.reverse()\n",
    "print(a)\n",
    "\n",
    "a = [1,2,3,4,5,6,7,8,9]\n",
    "a.reverse()\n",
    "print(a)\n",
    "\n",
    "# reverse in 2D list\n",
    "\n",
    "a = [[1,2,3,4,5], [1,4,3,2,1], [1,2,33]]\n",
    "a.reverse()\n",
    "print(a)\n",
    "\n",
    "\n",
    "a = [[0,0,0,1,1,1] ,[1,2,3,4,5], [1,4,3,2,1], [1,2,33]]\n",
    "a.reverse()\n",
    "print(a)\n",
    "\n",
    "# We get to know, that reverse in 2D list is not concerned by elements inside list, \n",
    "# but it just reverses the order of lists inside the 2D list \n"
   ]
  },
  {
   "cell_type": "code",
   "execution_count": null,
   "id": "41a796f3",
   "metadata": {},
   "outputs": [],
   "source": []
  },
  {
   "cell_type": "code",
   "execution_count": 12,
   "id": "ec053704",
   "metadata": {},
   "outputs": [
    {
     "name": "stdout",
     "output_type": "stream",
     "text": [
      "<class 'list'>\n",
      "['Checking', 'a', 'function', 'named', 'as', '\"123\"']\n",
      "121 12 131 12 fdf\n",
      "<class 'list'>\n",
      "['121', '12', '131', '12', 'fdf']\n"
     ]
    }
   ],
   "source": [
    "# Checking input.split fn\n",
    "\n",
    "a = ('Checking a function named as \"123\"').split()\n",
    "print(type(a))\n",
    "print(a)\n",
    "\n",
    "a = [ str(i) for i in input().split()]\n",
    "print(type(a))\n",
    "print(a)\n"
   ]
  }
 ],
 "metadata": {
  "kernelspec": {
   "display_name": "Python 3 (ipykernel)",
   "language": "python",
   "name": "python3"
  },
  "language_info": {
   "codemirror_mode": {
    "name": "ipython",
    "version": 3
   },
   "file_extension": ".py",
   "mimetype": "text/x-python",
   "name": "python",
   "nbconvert_exporter": "python",
   "pygments_lexer": "ipython3",
   "version": "3.11.3"
  }
 },
 "nbformat": 4,
 "nbformat_minor": 5
}
