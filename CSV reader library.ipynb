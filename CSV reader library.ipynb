{
 "cells": [
  {
   "cell_type": "code",
   "execution_count": 11,
   "id": "489762be",
   "metadata": {},
   "outputs": [
    {
     "name": "stdout",
     "output_type": "stream",
     "text": [
      "['Sr No', 'Date dd/mm/yyyy', 'Startup Name', 'Industry Vertical', 'SubVertical', 'City  Location', 'Investors Name', 'InvestmentnType', 'Amount in USD', 'Remarks']\n",
      "['1', '09/01/2020', 'BYJUâ€™S', 'E-Tech', 'E-learning', 'Bengaluru', 'Tiger Global Management', 'Private Equity Round', '20,00,00,000', '']\n",
      "['2', '13/01/2020', 'Shuttl', 'Transportation', 'App based shuttle service', 'Gurgaon', 'Susquehanna Growth Equity', 'Series C', '80,48,394', '']\n",
      "['3', '09/01/2020', 'Mamaearth', 'E-commerce', 'Retailer of baby and toddler products', 'Bengaluru', 'Sequoia Capital India', 'Series B', '1,83,58,860', '']\n",
      "['4', '02/01/2020', 'https://www.wealthbucket.in/', 'FinTech', 'Online Investment', 'New Delhi', 'Vinod Khatumal', 'Pre-series A', '30,00,000', '']\n",
      "['5', '02/01/2020', 'Fashor', 'Fashion and Apparel', 'Embroiled Clothes For Women', 'Mumbai', 'Sprout Venture Partners', 'Seed Round', '18,00,000', '']\n",
      "['6', '13/01/2020', 'Pando', 'Logistics', 'Open-market, freight management platform', 'Chennai', 'Chiratae Ventures', 'Series A', '90,00,000', '']\n",
      "<class '_csv.reader'>\n",
      "<_csv.reader object at 0x00000216E53E09A0> our 'data' gives memoery location of 'data'\n"
     ]
    }
   ],
   "source": [
    "import csv\n",
    "file1 = open(\"C:\\\\Users\\\\Lenovo\\\\Desktop\\\\startup_funding.csv\") \n",
    "data = csv.reader(file1)\n",
    "count = 0\n",
    "for i in data:\n",
    " print(i)\n",
    " count += 1\n",
    " if count == 7:\n",
    "        break\n",
    "\n",
    "print(type(data))\n",
    "print(data , \"our 'data' gives memoery location of 'data'\")\n",
    "\n",
    "\n"
   ]
  },
  {
   "cell_type": "code",
   "execution_count": null,
   "id": "39a67d57",
   "metadata": {},
   "outputs": [],
   "source": [
    "# Apples and oranges falling function\n",
    "\n",
    "\n",
    "def countApplesAndOranges(s, t, a, b, apples, oranges):\n",
    "    # Write your code here   ,  Here apples and orages are arrays representing distance of fall\n",
    "    \n",
    "    count2 = 0\n",
    "    count1 = 0\n",
    "    \n",
    "    for i in apples:\n",
    "        if a+i>= s and a+i <= t:\n",
    "            count1 += 1\n",
    "    \n",
    "    for i in oranges:\n",
    "        if b+i >= s and b+i <= t:\n",
    "            count2 += 1\n",
    "    print(count1)\n",
    "    print(count2)\n",
    "\n"
   ]
  },
  {
   "cell_type": "code",
   "execution_count": 3,
   "id": "67fdcdfe",
   "metadata": {},
   "outputs": [
    {
     "name": "stdout",
     "output_type": "stream",
     "text": [
      "10\n",
      "15\n",
      "20\n"
     ]
    }
   ],
   "source": [
    "a = [1,2,3,4,5]\n",
    "e = max(a)\n",
    "for i in a:\n",
    "    if e%i != 0:\n",
    "        e += max(a)\n",
    "        print(e)\n",
    "\n",
    "\n",
    "        "
   ]
  },
  {
   "cell_type": "code",
   "execution_count": 5,
   "id": "993616ef",
   "metadata": {},
   "outputs": [
    {
     "data": {
      "text/plain": [
       "1"
      ]
     },
     "execution_count": 5,
     "metadata": {},
     "output_type": "execute_result"
    }
   ],
   "source": [
    "# Calculating no. of integers that are completely divisible by all integers in first array and that divides all elements of second array\n",
    "\n",
    "def getTotalX(a, b):\n",
    "    # Write your code here\n",
    "    e = max(a)\n",
    "    count = 0\n",
    "     \n",
    "    while e <= max(b):\n",
    "        \n",
    "        len_b = 0\n",
    "        for i in b:\n",
    "            if i%e == 0:\n",
    "                len_b += 1\n",
    "        if len_b == len(b):\n",
    "            flag = True\n",
    "            for i in a:\n",
    "                if e%i != 0:\n",
    "                    flag = False\n",
    "            \n",
    "            if flag: \n",
    "                  count += 1\n",
    "        e += max(a)\n",
    "    \n",
    "    return count \n",
    "\n",
    "getTotalX([2,4,6,12,24] , [48,72])\n"
   ]
  },
  {
   "cell_type": "code",
   "execution_count": 11,
   "id": "3631e609",
   "metadata": {},
   "outputs": [
    {
     "name": "stdout",
     "output_type": "stream",
     "text": [
      " 5 6 7 8 9 0 1 2 3 43\n",
      "[5, 1]\n"
     ]
    }
   ],
   "source": [
    "# Breaking basket ball records of max and min points every season\n",
    "\n",
    "def breakingRecords(scores):\n",
    "    # Write your code here\n",
    "    max1 = scores[0]\n",
    "    min1 = scores[0]\n",
    "    \n",
    "    arr = [0,0]\n",
    "    len1 = len(scores)\n",
    "    for i in scores[1 :]:\n",
    "        if i > max1:\n",
    "            arr[0] += 1\n",
    "            max1 = i\n",
    "        if i < min1 :\n",
    "            arr[1] += 1\n",
    "            min1 = i\n",
    "    return print(arr)\n",
    "\n",
    "breakingRecords([int(i) for i in input().split()])"
   ]
  },
  {
   "cell_type": "code",
   "execution_count": 14,
   "id": "9b837459",
   "metadata": {},
   "outputs": [
    {
     "data": {
      "text/plain": [
       "True"
      ]
     },
     "execution_count": 14,
     "metadata": {},
     "output_type": "execute_result"
    }
   ],
   "source": [
    "# Checking equality of lists\n",
    "\n",
    "a = [3,2,1]\n",
    "b =[1,2,3]\n",
    "\n",
    "a = a.sort()\n",
    "b = b.sort()\n",
    "flag = False\n",
    "if a ==b :\n",
    "    flag = True\n",
    "flag"
   ]
  }
 ],
 "metadata": {
  "kernelspec": {
   "display_name": "Python 3 (ipykernel)",
   "language": "python",
   "name": "python3"
  },
  "language_info": {
   "codemirror_mode": {
    "name": "ipython",
    "version": 3
   },
   "file_extension": ".py",
   "mimetype": "text/x-python",
   "name": "python",
   "nbconvert_exporter": "python",
   "pygments_lexer": "ipython3",
   "version": "3.11.3"
  }
 },
 "nbformat": 4,
 "nbformat_minor": 5
}
