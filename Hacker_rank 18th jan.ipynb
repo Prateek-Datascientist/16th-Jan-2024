{
 "cells": [
  {
   "cell_type": "code",
   "execution_count": 6,
   "id": "202bdb62",
   "metadata": {},
   "outputs": [
    {
     "name": "stdout",
     "output_type": "stream",
     "text": [
      "00:00:05\n",
      "12:00:05\n"
     ]
    }
   ],
   "source": [
    "#Given a time in -hour AM/PM format, convert it to military (24-hour) time.\n",
    "\n",
    "def timeConversion(s):\n",
    "    # Write your code here\n",
    "     if s[8:10] == 'AM':\n",
    "         if s[ :2] == '12':\n",
    "             return ( '00' + s[2:8])\n",
    "        \n",
    "         return(s[: 8])\n",
    "     \n",
    "     if s[8:10] == 'PM':\n",
    "         \n",
    "         \n",
    "         hr = int(s[ :2])\n",
    "         \n",
    "         if hr != 12:\n",
    "            hr = hr + 12\n",
    "         \n",
    "         return ( str(hr) + s[2: 8])\n",
    "         \n",
    "\n",
    "print(timeConversion('12:00:05AM') )\n",
    "print(timeConversion('12:00:05PM'))"
   ]
  },
  {
   "cell_type": "code",
   "execution_count": 9,
   "id": "199458d7",
   "metadata": {},
   "outputs": [
    {
     "name": "stdout",
     "output_type": "stream",
     "text": [
      "5\n",
      "    #\n",
      "   ##\n",
      "  ###\n",
      " ####\n",
      "#####\n"
     ]
    }
   ],
   "source": [
    "# Staircase\n",
    "\n",
    "def staircase(n):\n",
    "    # Write your code here\n",
    "     \n",
    "    for i in range(n):\n",
    "        for j in range(n-1-i):\n",
    "            print(' ', end= '')\n",
    "        for k in range(i+1):\n",
    "            print('#', end = '')\n",
    "        \n",
    "        print()\n",
    "staircase(int(input()))"
   ]
  },
  {
   "cell_type": "code",
   "execution_count": 12,
   "id": "2e480cab",
   "metadata": {},
   "outputs": [
    {
     "name": "stdout",
     "output_type": "stream",
     "text": [
      "1231 2432 3 432332 45 5 43 \n",
      "96 1324\n"
     ]
    }
   ],
   "source": [
    "def miniMaxSum(arr):\n",
    "    # Write your code here\n",
    "    arr.sort()\n",
    "    \n",
    "    sum1 = 0\n",
    "    sum2 = 0\n",
    "    \n",
    "    for i in range(0,4):\n",
    "        sum1 += arr[i]\n",
    "    \n",
    "    for i in range(1,5):\n",
    "        sum2 += arr[i]\n",
    "        \n",
    "    print( sum1, sum2)\n",
    "\n",
    "miniMaxSum([int(i) for i in input().split()])"
   ]
  }
 ],
 "metadata": {
  "kernelspec": {
   "display_name": "Python 3 (ipykernel)",
   "language": "python",
   "name": "python3"
  },
  "language_info": {
   "codemirror_mode": {
    "name": "ipython",
    "version": 3
   },
   "file_extension": ".py",
   "mimetype": "text/x-python",
   "name": "python",
   "nbconvert_exporter": "python",
   "pygments_lexer": "ipython3",
   "version": "3.11.3"
  }
 },
 "nbformat": 4,
 "nbformat_minor": 5
}
