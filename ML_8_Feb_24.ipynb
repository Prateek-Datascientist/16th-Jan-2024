{
  "nbformat": 4,
  "nbformat_minor": 0,
  "metadata": {
    "colab": {
      "provenance": [],
      "authorship_tag": "ABX9TyNV6tgkBNlFXnmC4YAmB/dd",
      "include_colab_link": true
    },
    "kernelspec": {
      "name": "python3",
      "display_name": "Python 3"
    },
    "language_info": {
      "name": "python"
    }
  },
  "cells": [
    {
      "cell_type": "markdown",
      "metadata": {
        "id": "view-in-github",
        "colab_type": "text"
      },
      "source": [
        "<a href=\"https://colab.research.google.com/github/Prateek-Datascientist/16th-Jan-2024/blob/main/ML_8_Feb_24.ipynb\" target=\"_parent\"><img src=\"https://colab.research.google.com/assets/colab-badge.svg\" alt=\"Open In Colab\"/></a>"
      ]
    },
    {
      "cell_type": "markdown",
      "source": [
        "## Caluclating cost function, gradient descent"
      ],
      "metadata": {
        "id": "OhqXmk3pdqFA"
      }
    },
    {
      "cell_type": "code",
      "execution_count": null,
      "metadata": {
        "id": "Qvn3wt3Xb22c"
      },
      "outputs": [],
      "source": [
        "import pandas as pd\n",
        "import numpy as np\n"
      ]
    },
    {
      "cell_type": "code",
      "source": [
        "data = np.loadtxt('/content/data.csv' , delimiter = ',')\n",
        "a  = len(data)\n",
        "m = 0\n",
        "c =0\n",
        "cost = 0\n",
        "l_rate = 0.00009\n",
        "iterations = 50\n",
        "\n",
        "def grad(m1,c1, data, l_rate):\n",
        "  mslope = 0\n",
        "  cslope = 0\n",
        "  for i in range(a):\n",
        "    x = data[i,0]\n",
        "    y = data[i,1]\n",
        "    mslope += (-2/a)*(y- m1*x -c1)*x\n",
        "    cslope += (-2/a)*(y - m1*x - c1)\n",
        "\n",
        "  m_new = m - l_rate*mslope\n",
        "  c_new = c - l_rate*cslope\n",
        "  #print(\"m_new is \", m_new)\n",
        "  #print(\"c_new is \" , c_new)\n",
        "  return m_new, c_new\n",
        "\n",
        "def cost(a, data, m1 , c1):\n",
        " cost_total = 0\n",
        " for i in range(a):\n",
        "   x = data[i,0]\n",
        "   y = data[i,1]\n",
        "   cost_total += (1/a)*((y - m1*x -c1)**2)\n",
        " return cost_total\n",
        "\n",
        "m1 = 0\n",
        "c1 = 0\n",
        "for i in range(iterations):\n",
        "  m1 , c1 = grad(m1,c1, data, l_rate)\n",
        "  cost1 = cost(a, data, m1 , c1)\n",
        "  print(\"Total cost is \" , cost1)\n"
      ],
      "metadata": {
        "colab": {
          "base_uri": "https://localhost:8080/"
        },
        "id": "6AJhfHiHdlr2",
        "outputId": "850b1cb7-f21a-45ca-d601-debe5bb9d610"
      },
      "execution_count": null,
      "outputs": [
        {
          "output_type": "stream",
          "name": "stdout",
          "text": [
            "Total cost is  1770.749785175835\n",
            "Total cost is  3201.349008405232\n",
            "Total cost is  2505.0660788845444\n",
            "Total cost is  2806.397376489794\n",
            "Total cost is  2669.026494341606\n",
            "Total cost is  2730.1990730038174\n",
            "Total cost is  2702.6708909919184\n",
            "Total cost is  2715.0005556209517\n",
            "Total cost is  2709.4665101838486\n",
            "Total cost is  2711.9480568373324\n",
            "Total cost is  2710.834821890973\n",
            "Total cost is  2711.334129729845\n",
            "Total cost is  2711.1101611524723\n",
            "Total cost is  2711.210620217788\n",
            "Total cost is  2711.1655594435056\n",
            "Total cost is  2711.185771235207\n",
            "Total cost is  2711.176705302698\n",
            "Total cost is  2711.180771790509\n",
            "Total cost is  2711.178947782375\n",
            "Total cost is  2711.179765934251\n",
            "Total cost is  2711.1793989553025\n",
            "Total cost is  2711.1795635623216\n",
            "Total cost is  2711.1794897284626\n",
            "Total cost is  2711.179522846362\n",
            "Total cost is  2711.179507991453\n",
            "Total cost is  2711.179514654566\n",
            "Total cost is  2711.179511665853\n",
            "Total cost is  2711.179513006429\n",
            "Total cost is  2711.1795124051173\n",
            "Total cost is  2711.1795126748343\n",
            "Total cost is  2711.1795125538542\n",
            "Total cost is  2711.179512608119\n",
            "Total cost is  2711.179512583777\n",
            "Total cost is  2711.1795125946965\n",
            "Total cost is  2711.1795125897975\n",
            "Total cost is  2711.179512591996\n",
            "Total cost is  2711.179512591013\n",
            "Total cost is  2711.179512591452\n",
            "Total cost is  2711.1795125912536\n",
            "Total cost is  2711.1795125913436\n",
            "Total cost is  2711.1795125913013\n",
            "Total cost is  2711.179512591322\n",
            "Total cost is  2711.1795125913122\n",
            "Total cost is  2711.179512591316\n",
            "Total cost is  2711.1795125913145\n",
            "Total cost is  2711.179512591315\n",
            "Total cost is  2711.1795125913145\n",
            "Total cost is  2711.1795125913145\n",
            "Total cost is  2711.1795125913145\n",
            "Total cost is  2711.1795125913145\n"
          ]
        }
      ]
    },
    {
      "cell_type": "code",
      "source": [
        "from sklearn import datasets\n",
        "from sklearn.linear_model import LogisticRegression\n",
        "from sklearn.model_selection import train_test_split\n",
        "cancer = datasets.load_breast_cancer()\n",
        "data  = cancer.data\n",
        "target = cancer.target\n",
        "clsfr = LogisticRegression(C = 2, max_iter = 1000,  solver = 'saga' )\n",
        "xtrain, xtest, ytrain, ytest = train_test_split(data, target, test_size= 0.3 )\n",
        "clsfr.fit(xtrain, ytrain)\n",
        "score1 = clsfr.score(xtrain, ytrain)\n",
        "score2 = clsfr.score(xtest, ytest)\n",
        "print(round(score1, 2))\n",
        "print(round(score2, 2))"
      ],
      "metadata": {
        "id": "ulnDf-sbdzxn",
        "colab": {
          "base_uri": "https://localhost:8080/"
        },
        "outputId": "89c08317-5431-42a4-da7d-aeaa9b0808df"
      },
      "execution_count": null,
      "outputs": [
        {
          "output_type": "stream",
          "name": "stdout",
          "text": [
            "0.93\n",
            "0.9\n"
          ]
        },
        {
          "output_type": "stream",
          "name": "stderr",
          "text": [
            "/usr/local/lib/python3.10/dist-packages/sklearn/linear_model/_sag.py:350: ConvergenceWarning: The max_iter was reached which means the coef_ did not converge\n",
            "  warnings.warn(\n"
          ]
        }
      ]
    },
    {
      "cell_type": "code",
      "source": [
        "print(cancer)\n"
      ],
      "metadata": {
        "id": "PCSVc-pudzzI"
      },
      "execution_count": null,
      "outputs": []
    },
    {
      "cell_type": "code",
      "source": [],
      "metadata": {
        "id": "_sLVBs-udz5A"
      },
      "execution_count": null,
      "outputs": []
    }
  ]
}